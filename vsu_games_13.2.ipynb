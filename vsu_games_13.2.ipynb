{
 "cells": [
  {
   "cell_type": "code",
   "execution_count": 1,
   "metadata": {
    "ExecuteTime": {
     "end_time": "2017-12-16T00:14:13.624126Z",
     "start_time": "2017-12-16T00:14:11.502037Z"
    },
    "collapsed": true
   },
   "outputs": [],
   "source": [
    "import numpy as np, pandas as pd\n",
    "import matplotlib.pyplot as plt\n",
    "\n",
    "%matplotlib inline"
   ]
  },
  {
   "cell_type": "code",
   "execution_count": 2,
   "metadata": {
    "ExecuteTime": {
     "end_time": "2017-12-16T00:14:13.628843Z",
     "start_time": "2017-12-16T00:14:13.625431Z"
    },
    "collapsed": true
   },
   "outputs": [],
   "source": [
    "np.random.seed(42)"
   ]
  },
  {
   "cell_type": "code",
   "execution_count": 3,
   "metadata": {
    "ExecuteTime": {
     "end_time": "2017-12-16T00:14:13.684456Z",
     "start_time": "2017-12-16T00:14:13.631772Z"
    }
   },
   "outputs": [
    {
     "data": {
      "text/plain": [
       "array([3, 4, 1, 3, 3, 4, 1, 1, 3, 2])"
      ]
     },
     "execution_count": 3,
     "metadata": {},
     "output_type": "execute_result"
    }
   ],
   "source": [
    "T = np.random.randint(low=1,high=5,size=10)\n",
    "T"
   ]
  },
  {
   "cell_type": "code",
   "execution_count": 4,
   "metadata": {
    "ExecuteTime": {
     "end_time": "2017-12-16T00:14:13.765021Z",
     "start_time": "2017-12-16T00:14:13.686511Z"
    }
   },
   "outputs": [
    {
     "data": {
      "text/plain": [
       "array([3, 7, 8, 5, 4, 8, 8, 3, 6, 5])"
      ]
     },
     "execution_count": 4,
     "metadata": {},
     "output_type": "execute_result"
    }
   ],
   "source": [
    "A = np.random.randint(low=1,high=10, size=10)\n",
    "A"
   ]
  },
  {
   "cell_type": "code",
   "execution_count": 5,
   "metadata": {
    "ExecuteTime": {
     "end_time": "2017-12-16T00:14:13.822541Z",
     "start_time": "2017-12-16T00:14:13.766285Z"
    }
   },
   "outputs": [
    {
     "data": {
      "text/plain": [
       "array([ 1.        ,  0.57142857,  0.125     ,  0.6       ,  0.75      ,\n",
       "        0.5       ,  0.125     ,  0.33333333,  0.5       ,  0.4       ])"
      ]
     },
     "execution_count": 5,
     "metadata": {},
     "output_type": "execute_result"
    }
   ],
   "source": [
    "T/A"
   ]
  },
  {
   "cell_type": "code",
   "execution_count": 6,
   "metadata": {
    "ExecuteTime": {
     "end_time": "2017-12-16T00:14:14.178554Z",
     "start_time": "2017-12-16T00:14:13.823796Z"
    },
    "collapsed": true
   },
   "outputs": [],
   "source": [
    "import sympy"
   ]
  },
  {
   "cell_type": "code",
   "execution_count": 7,
   "metadata": {
    "ExecuteTime": {
     "end_time": "2017-12-16T00:14:14.186058Z",
     "start_time": "2017-12-16T00:14:14.180003Z"
    }
   },
   "outputs": [
    {
     "data": {
      "text/plain": [
       "[(1, 1),\n",
       " (4/7, 2),\n",
       " (1/8, 3),\n",
       " (3/5, 4),\n",
       " (3/4, 5),\n",
       " (1/2, 6),\n",
       " (1/8, 7),\n",
       " (1/3, 8),\n",
       " (1/2, 9),\n",
       " (2/5, 10)]"
      ]
     },
     "execution_count": 7,
     "metadata": {},
     "output_type": "execute_result"
    }
   ],
   "source": [
    "attendants = []\n",
    "for i, (t, a) in enumerate(zip(T, A)):\n",
    "    t, a = int(t), int(a)\n",
    "    attendants.append((sympy.Rational(t, a), 1+i))\n",
    "attendants"
   ]
  },
  {
   "cell_type": "code",
   "execution_count": 8,
   "metadata": {
    "ExecuteTime": {
     "end_time": "2017-12-16T00:14:14.239146Z",
     "start_time": "2017-12-16T00:14:14.187104Z"
    }
   },
   "outputs": [
    {
     "data": {
      "text/plain": [
       "[(1/8, 3),\n",
       " (1/8, 7),\n",
       " (1/3, 8),\n",
       " (2/5, 10),\n",
       " (1/2, 6),\n",
       " (1/2, 9),\n",
       " (4/7, 2),\n",
       " (3/5, 4),\n",
       " (3/4, 5),\n",
       " (1, 1)]"
      ]
     },
     "execution_count": 8,
     "metadata": {},
     "output_type": "execute_result"
    }
   ],
   "source": [
    "sorted(attendants)"
   ]
  },
  {
   "cell_type": "code",
   "execution_count": 9,
   "metadata": {
    "ExecuteTime": {
     "end_time": "2017-12-16T00:14:14.411467Z",
     "start_time": "2017-12-16T00:14:14.240643Z"
    }
   },
   "outputs": [
    {
     "data": {
      "text/html": [
       "<div>\n",
       "<style>\n",
       "    .dataframe thead tr:only-child th {\n",
       "        text-align: right;\n",
       "    }\n",
       "\n",
       "    .dataframe thead th {\n",
       "        text-align: left;\n",
       "    }\n",
       "\n",
       "    .dataframe tbody tr th {\n",
       "        vertical-align: top;\n",
       "    }\n",
       "</style>\n",
       "<table border=\"1\" class=\"dataframe\">\n",
       "  <thead>\n",
       "    <tr style=\"text-align: right;\">\n",
       "      <th></th>\n",
       "      <th>a</th>\n",
       "      <th>f(s)</th>\n",
       "      <th>t/alpha</th>\n",
       "      <th>alpha</th>\n",
       "    </tr>\n",
       "  </thead>\n",
       "  <tbody>\n",
       "    <tr>\n",
       "      <th>0</th>\n",
       "      <td>3</td>\n",
       "      <td>8</td>\n",
       "      <td>1/8</td>\n",
       "      <td>8</td>\n",
       "    </tr>\n",
       "    <tr>\n",
       "      <th>1</th>\n",
       "      <td>7</td>\n",
       "      <td>16</td>\n",
       "      <td>1/8</td>\n",
       "      <td>8</td>\n",
       "    </tr>\n",
       "    <tr>\n",
       "      <th>2</th>\n",
       "      <td>8</td>\n",
       "      <td>19</td>\n",
       "      <td>1/3</td>\n",
       "      <td>3</td>\n",
       "    </tr>\n",
       "    <tr>\n",
       "      <th>3</th>\n",
       "      <td>10</td>\n",
       "      <td>29</td>\n",
       "      <td>2/5</td>\n",
       "      <td>5</td>\n",
       "    </tr>\n",
       "    <tr>\n",
       "      <th>4</th>\n",
       "      <td>6</td>\n",
       "      <td>61</td>\n",
       "      <td>1/2</td>\n",
       "      <td>8</td>\n",
       "    </tr>\n",
       "    <tr>\n",
       "      <th>5</th>\n",
       "      <td>9</td>\n",
       "      <td>79</td>\n",
       "      <td>1/2</td>\n",
       "      <td>6</td>\n",
       "    </tr>\n",
       "    <tr>\n",
       "      <th>6</th>\n",
       "      <td>2</td>\n",
       "      <td>107</td>\n",
       "      <td>4/7</td>\n",
       "      <td>7</td>\n",
       "    </tr>\n",
       "    <tr>\n",
       "      <th>7</th>\n",
       "      <td>4</td>\n",
       "      <td>122</td>\n",
       "      <td>3/5</td>\n",
       "      <td>5</td>\n",
       "    </tr>\n",
       "    <tr>\n",
       "      <th>8</th>\n",
       "      <td>5</td>\n",
       "      <td>134</td>\n",
       "      <td>3/4</td>\n",
       "      <td>4</td>\n",
       "    </tr>\n",
       "    <tr>\n",
       "      <th>9</th>\n",
       "      <td>1</td>\n",
       "      <td>143</td>\n",
       "      <td>1</td>\n",
       "      <td>3</td>\n",
       "    </tr>\n",
       "  </tbody>\n",
       "</table>\n",
       "</div>"
      ],
      "text/plain": [
       "    a  f(s) t/alpha  alpha\n",
       "0   3     8     1/8      8\n",
       "1   7    16     1/8      8\n",
       "2   8    19     1/3      3\n",
       "3  10    29     2/5      5\n",
       "4   6    61     1/2      8\n",
       "5   9    79     1/2      6\n",
       "6   2   107     4/7      7\n",
       "7   4   122     3/5      5\n",
       "8   5   134     3/4      4\n",
       "9   1   143       1      3"
      ]
     },
     "execution_count": 9,
     "metadata": {},
     "output_type": "execute_result"
    }
   ],
   "source": [
    "f = 0\n",
    "result = []\n",
    "for s, (ta, a) in enumerate(sorted(attendants), ):\n",
    "    f += A[a-1]*T[a-1]\n",
    "    s = s + 1\n",
    "    result.append((a, f, ta, A[a-1]))\n",
    "results = pd.DataFrame(data=result, columns=['a', 'f(s)', 't/alpha', 'alpha'])\n",
    "results"
   ]
  },
  {
   "cell_type": "code",
   "execution_count": 10,
   "metadata": {
    "ExecuteTime": {
     "end_time": "2017-12-16T00:14:14.482776Z",
     "start_time": "2017-12-16T00:14:14.412827Z"
    }
   },
   "outputs": [
    {
     "data": {
      "text/plain": [
       "array([ 5.21,  7.  ,  6.41,  4.8 ,  5.  ])"
      ]
     },
     "metadata": {},
     "output_type": "display_data"
    },
    {
     "data": {
      "text/plain": [
       "array([ 0.75,  0.61,  0.55,  0.81,  0.5 ,  0.45])"
      ]
     },
     "metadata": {},
     "output_type": "display_data"
    },
    {
     "data": {
      "text/plain": [
       "array([ 0.61,  0.81,  0.75,  0.5 ,  0.55])"
      ]
     },
     "metadata": {},
     "output_type": "display_data"
    }
   ],
   "source": [
    "D = np.array([5.21, 7.0, 6.41, 4.8, 5.0])\n",
    "U = np.array([0.75, .61, .55, .81, .5, .45])\n",
    "PU = U[[2-1, 4-1, 1-1, 5-1, 3-1]]\n",
    "display(D, U, PU)"
   ]
  },
  {
   "cell_type": "code",
   "execution_count": 11,
   "metadata": {
    "ExecuteTime": {
     "end_time": "2017-12-16T00:14:14.538825Z",
     "start_time": "2017-12-16T00:14:14.484514Z"
    }
   },
   "outputs": [
    {
     "data": {
      "text/plain": [
       "18.805599999999998"
      ]
     },
     "execution_count": 11,
     "metadata": {},
     "output_type": "execute_result"
    }
   ],
   "source": [
    "D.dot(PU)"
   ]
  }
 ],
 "metadata": {
  "kernelspec": {
   "display_name": "Python 3",
   "language": "python",
   "name": "python3"
  },
  "language_info": {
   "codemirror_mode": {
    "name": "ipython",
    "version": 3
   },
   "file_extension": ".py",
   "mimetype": "text/x-python",
   "name": "python",
   "nbconvert_exporter": "python",
   "pygments_lexer": "ipython3",
   "version": "3.6.3"
  }
 },
 "nbformat": 4,
 "nbformat_minor": 2
}
