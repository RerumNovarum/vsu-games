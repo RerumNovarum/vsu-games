{
 "cells": [
  {
   "cell_type": "code",
   "execution_count": 1,
   "metadata": {
    "ExecuteTime": {
     "end_time": "2017-12-28T23:44:02.689690Z",
     "start_time": "2017-12-28T23:44:02.400255Z"
    },
    "collapsed": true
   },
   "outputs": [],
   "source": [
    "import numpy as np\n",
    "import pandas as pd\n",
    "pd.set_option('display.precision', 2)"
   ]
  },
  {
   "cell_type": "markdown",
   "metadata": {},
   "source": [
    "## Производство и запасы при сезонном спросе\n",
    "\n",
    "На 4 периода, с графиком"
   ]
  },
  {
   "cell_type": "code",
   "execution_count": null,
   "metadata": {
    "collapsed": true
   },
   "outputs": [],
   "source": [
    "r = np.array([2.31, 2, 3, 4])\n",
    "s0, s4 = 10, 16\n",
    "alpha, beta = 5, 3.71"
   ]
  },
  {
   "cell_type": "markdown",
   "metadata": {},
   "source": [
    "$$s_0 = 10,\\ s_4 = 16,$$\n",
    "Цель: минимизировать расширения производства и издержки хранения:\n",
    "$$J = \\alpha \\sum_t s_t + \\beta \\sum y_t \\to \\inf.$$\n",
    "Ограничения:\n",
    "$$x_t = s_t + r_t - s_{t-1},$$\n",
    "$$x_t - x_{t-1} =  y_t - z_t.$$\n",
    "Экв.:\n",
    "$$y_1 - z_1 = x_1 - 0 = s_1 + r_1 - s_0 = s_1 + 2.31 - 10 = s_1 - 8.69,$$\n",
    "$$y_t - z_t = s_t - 2s_{t-1} + s_{t-2} + r_k - r_{k-1},\\ t\\geq 2,$$\n",
    "$$x_t - x_{t-1} = y_t - z_t,\\ t\\geq 2.$$"
   ]
  },
  {
   "cell_type": "markdown",
   "metadata": {},
   "source": [
    "$$y_1 - z_1 - s_1 = r_1 - r_0 - s_0...$$"
   ]
  },
  {
   "cell_type": "code",
   "execution_count": null,
   "metadata": {
    "collapsed": true
   },
   "outputs": [],
   "source": []
  }
 ],
 "metadata": {
  "kernelspec": {
   "display_name": "Python 3",
   "language": "python",
   "name": "python3"
  },
  "language_info": {
   "codemirror_mode": {
    "name": "ipython",
    "version": 3
   },
   "file_extension": ".py",
   "mimetype": "text/x-python",
   "name": "python",
   "nbconvert_exporter": "python",
   "pygments_lexer": "ipython3",
   "version": "3.6.3"
  }
 },
 "nbformat": 4,
 "nbformat_minor": 2
}
