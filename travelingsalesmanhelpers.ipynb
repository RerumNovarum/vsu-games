{
 "cells": [
  {
   "cell_type": "code",
   "execution_count": 1,
   "metadata": {
    "collapsed": true
   },
   "outputs": [],
   "source": [
    "import itertools"
   ]
  },
  {
   "cell_type": "code",
   "execution_count": 2,
   "metadata": {
    "collapsed": true
   },
   "outputs": [],
   "source": [
    "import numpy as np"
   ]
  },
  {
   "cell_type": "code",
   "execution_count": 3,
   "metadata": {
    "collapsed": true
   },
   "outputs": [],
   "source": [
    "def heuristic(C):\n",
    "    S = np.zeros(C.shape)\n",
    "    for i, j in itertools.product(*[range(d) for d in C.shape]):\n",
    "        if C[i,j].round(2) != 0:\n",
    "            S[i,j] = -np.infty\n",
    "            continue\n",
    "        mr, mc = 2*[np.infty]\n",
    "        for i1 in range(C.shape[0]):\n",
    "            if i1 == i: continue\n",
    "            mc = min(mc, C[i1, j])\n",
    "        for j1 in range(C.shape[1]):\n",
    "            if j1 == j: continue\n",
    "            mr = min(mr, C[i, j1])\n",
    "        S[i,j] = mr + mc\n",
    "    return S"
   ]
  },
  {
   "cell_type": "code",
   "execution_count": 4,
   "metadata": {
    "collapsed": true
   },
   "outputs": [],
   "source": [
    "def row_transform(C):\n",
    "    mins = np.min(C, axis=1).reshape((-1,1))\n",
    "    return C - mins, mins\n",
    "\n",
    "def col_transform(C):\n",
    "    mins = np.min(C, axis=0)\n",
    "    return C - mins, mins"
   ]
  },
  {
   "cell_type": "code",
   "execution_count": 5,
   "metadata": {},
   "outputs": [
    {
     "data": {
      "text/plain": [
       "array([[  9.27,   8.75,  11.17,   9.75,   8.19,  11.04],\n",
       "       [  9.46,   8.89,  11.5 ,   9.97,   8.29,  11.37],\n",
       "       [  7.38,   7.29,   7.7 ,   7.46,   7.2 ,   7.68],\n",
       "       [  9.04,   8.57,  10.75,   9.47,   8.07,  10.63],\n",
       "       [  9.59,   9.  ,  11.75,  10.13,   8.36,  11.6 ],\n",
       "       [  7.75,   7.58,   8.38,   7.91,   7.4 ,   8.34]])"
      ]
     },
     "execution_count": 5,
     "metadata": {},
     "output_type": "execute_result"
    }
   ],
   "source": [
    "N=6\n",
    "C = np.array([\n",
    "    [7+5*np.abs(np.sin(i+1)*np.cos(1+j)) for j in range(N)]\n",
    "    for i in range(N)\n",
    "])\n",
    "C = C.round(2)\n",
    "C"
   ]
  },
  {
   "cell_type": "code",
   "execution_count": 6,
   "metadata": {},
   "outputs": [
    {
     "data": {
      "text/plain": [
       "array([[   inf,   8.75,  11.17,   9.75,   8.19,  11.04],\n",
       "       [  9.46,    inf,  11.5 ,   9.97,   8.29,  11.37],\n",
       "       [  7.38,   7.29,    inf,   7.46,   7.2 ,   7.68],\n",
       "       [  9.04,   8.57,  10.75,    inf,   8.07,  10.63],\n",
       "       [  9.59,   9.  ,  11.75,  10.13,    inf,  11.6 ],\n",
       "       [  7.75,   7.58,   8.38,   7.91,   7.4 ,    inf]])"
      ]
     },
     "execution_count": 6,
     "metadata": {},
     "output_type": "execute_result"
    }
   ],
   "source": [
    "for i in range(N):\n",
    "    C[i, i] = np.infty\n",
    "C"
   ]
  },
  {
   "cell_type": "code",
   "execution_count": 7,
   "metadata": {
    "scrolled": true
   },
   "outputs": [
    {
     "data": {
      "text/plain": [
       "array([[  inf,  0.56,  2.98,  1.56,  0.  ,  2.85],\n",
       "       [ 1.17,   inf,  3.21,  1.68,  0.  ,  3.08],\n",
       "       [ 0.18,  0.09,   inf,  0.26,  0.  ,  0.48],\n",
       "       [ 0.97,  0.5 ,  2.68,   inf,  0.  ,  2.56],\n",
       "       [ 0.59,  0.  ,  2.75,  1.13,   inf,  2.6 ],\n",
       "       [ 0.35,  0.18,  0.98,  0.51,  0.  ,   inf]])"
      ]
     },
     "execution_count": 7,
     "metadata": {},
     "output_type": "execute_result"
    }
   ],
   "source": [
    "C2, C2mr = row_transform(C)\n",
    "C2 = C2.round(2)\n",
    "C2"
   ]
  },
  {
   "cell_type": "code",
   "execution_count": 8,
   "metadata": {},
   "outputs": [
    {
     "data": {
      "text/plain": [
       "array([[ 8.19],\n",
       "       [ 8.29],\n",
       "       [ 7.2 ],\n",
       "       [ 8.07],\n",
       "       [ 9.  ],\n",
       "       [ 7.4 ]])"
      ]
     },
     "execution_count": 8,
     "metadata": {},
     "output_type": "execute_result"
    }
   ],
   "source": [
    "C2mr"
   ]
  },
  {
   "cell_type": "code",
   "execution_count": 9,
   "metadata": {
    "scrolled": true
   },
   "outputs": [
    {
     "data": {
      "text/plain": [
       "array([[  inf,  0.56,  2.  ,  1.3 ,  0.  ,  2.37],\n",
       "       [ 0.99,   inf,  2.23,  1.42,  0.  ,  2.6 ],\n",
       "       [ 0.  ,  0.09,   inf,  0.  ,  0.  ,  0.  ],\n",
       "       [ 0.79,  0.5 ,  1.7 ,   inf,  0.  ,  2.08],\n",
       "       [ 0.41,  0.  ,  1.77,  0.87,   inf,  2.12],\n",
       "       [ 0.17,  0.18,  0.  ,  0.25,  0.  ,   inf]])"
      ]
     },
     "execution_count": 9,
     "metadata": {},
     "output_type": "execute_result"
    }
   ],
   "source": [
    "C2, C2mc = col_transform(C2)\n",
    "C2 = C2.round(2)\n",
    "C2"
   ]
  },
  {
   "cell_type": "code",
   "execution_count": 10,
   "metadata": {},
   "outputs": [
    {
     "data": {
      "text/plain": [
       "array([ 0.18,  0.  ,  0.98,  0.26,  0.  ,  0.48])"
      ]
     },
     "execution_count": 10,
     "metadata": {},
     "output_type": "execute_result"
    }
   ],
   "source": [
    "C2mc"
   ]
  },
  {
   "cell_type": "code",
   "execution_count": 11,
   "metadata": {},
   "outputs": [
    {
     "data": {
      "text/plain": [
       "(48.149999999999999, 1.8999999999999999, 50.049999999999997)"
      ]
     },
     "execution_count": 11,
     "metadata": {},
     "output_type": "execute_result"
    }
   ],
   "source": [
    "l2r, l2c = C2mr.sum().round(2), C2mc.sum().round(2)\n",
    "l2 = l2r + l2c\n",
    "l2r, l2c, l2"
   ]
  },
  {
   "cell_type": "code",
   "execution_count": 12,
   "metadata": {},
   "outputs": [
    {
     "data": {
      "text/plain": [
       "array([[ -inf,  -inf,  -inf,  -inf,  0.56,  -inf],\n",
       "       [ -inf,  -inf,  -inf,  -inf,  0.99,  -inf],\n",
       "       [ 0.17,  -inf,  -inf,  0.25,  0.  ,  2.08],\n",
       "       [ -inf,  -inf,  -inf,  -inf,  0.5 ,  -inf],\n",
       "       [ -inf,  0.5 ,  -inf,  -inf,  -inf,  -inf],\n",
       "       [ -inf,  -inf,  1.7 ,  -inf,  0.  ,  -inf]])"
      ]
     },
     "execution_count": 12,
     "metadata": {},
     "output_type": "execute_result"
    }
   ],
   "source": [
    "H2 = heuristic(C2)\n",
    "H2"
   ]
  },
  {
   "cell_type": "code",
   "execution_count": null,
   "metadata": {
    "collapsed": true
   },
   "outputs": [],
   "source": []
  },
  {
   "cell_type": "code",
   "execution_count": 13,
   "metadata": {},
   "outputs": [
    {
     "data": {
      "text/plain": [
       "(53.550000000000004, 53.55)"
      ]
     },
     "execution_count": 13,
     "metadata": {},
     "output_type": "execute_result"
    }
   ],
   "source": [
    "B1u = 8.19+9+9.97+10.63+8.38+7.38\n",
    "B1u, round(B1u, 2)"
   ]
  },
  {
   "cell_type": "code",
   "execution_count": 14,
   "metadata": {},
   "outputs": [
    {
     "data": {
      "text/plain": [
       "array([[  inf,  0.56,  2.  ,  1.3 ,  0.  ,  2.37],\n",
       "       [ 0.99,   inf,  2.23,  1.42,  0.  ,  2.6 ],\n",
       "       [ 0.  ,  0.09,   inf,  0.  ,  0.  ,  0.  ],\n",
       "       [ 0.79,  0.5 ,  1.7 ,   inf,  0.  ,  2.08],\n",
       "       [ 0.41,  0.  ,  1.77,  0.87,   inf,  2.12],\n",
       "       [ 0.17,  0.18,  0.  ,  0.25,  0.  ,   inf]])"
      ]
     },
     "execution_count": 14,
     "metadata": {},
     "output_type": "execute_result"
    }
   ],
   "source": [
    "C2"
   ]
  },
  {
   "cell_type": "code",
   "execution_count": 15,
   "metadata": {},
   "outputs": [
    {
     "data": {
      "text/plain": [
       "52.13"
      ]
     },
     "execution_count": 15,
     "metadata": {},
     "output_type": "execute_result"
    }
   ],
   "source": [
    "round(50.05+2.08, 2)"
   ]
  },
  {
   "cell_type": "code",
   "execution_count": 16,
   "metadata": {},
   "outputs": [
    {
     "data": {
      "text/plain": [
       "array([[  inf,  0.56,  2.  ,  1.3 ,  0.  ],\n",
       "       [ 0.99,   inf,  2.23,  1.42,  0.  ],\n",
       "       [ 0.79,  0.5 ,  1.7 ,   inf,  0.  ],\n",
       "       [ 0.41,  0.  ,  1.77,  0.87,   inf],\n",
       "       [ 0.17,  0.18,   inf,  0.25,  0.  ]])"
      ]
     },
     "execution_count": 16,
     "metadata": {},
     "output_type": "execute_result"
    }
   ],
   "source": [
    "C_2_1 = C2[np.array([1,2,4,5,6])-1, :]\n",
    "C_2_1 = C_2_1[:,np.array([1,2,3,4,5])-1]\n",
    "C_2_1[-1, 3-1] = np.infty\n",
    "C_2_1"
   ]
  },
  {
   "cell_type": "code",
   "execution_count": null,
   "metadata": {
    "collapsed": true
   },
   "outputs": [],
   "source": []
  },
  {
   "cell_type": "code",
   "execution_count": 17,
   "metadata": {},
   "outputs": [
    {
     "data": {
      "text/plain": [
       "array([[  inf,  0.56,  2.  ,  1.3 ,  0.  ],\n",
       "       [ 0.99,   inf,  2.23,  1.42,  0.  ],\n",
       "       [ 0.79,  0.5 ,  1.7 ,   inf,  0.  ],\n",
       "       [ 0.41,  0.  ,  1.77,  0.87,   inf],\n",
       "       [ 0.17,  0.18,   inf,  0.25,  0.  ]])"
      ]
     },
     "execution_count": 17,
     "metadata": {},
     "output_type": "execute_result"
    }
   ],
   "source": [
    "C3, C3_mr = row_transform(C_2_1)\n",
    "C3"
   ]
  },
  {
   "cell_type": "code",
   "execution_count": 18,
   "metadata": {},
   "outputs": [
    {
     "data": {
      "text/plain": [
       "array([[ 0.],\n",
       "       [ 0.],\n",
       "       [ 0.],\n",
       "       [ 0.],\n",
       "       [ 0.]])"
      ]
     },
     "execution_count": 18,
     "metadata": {},
     "output_type": "execute_result"
    }
   ],
   "source": [
    "C3_mr"
   ]
  },
  {
   "cell_type": "code",
   "execution_count": 19,
   "metadata": {},
   "outputs": [
    {
     "data": {
      "text/plain": [
       "array([[  inf,  0.56,  0.3 ,  1.05,  0.  ],\n",
       "       [ 0.82,   inf,  0.53,  1.17,  0.  ],\n",
       "       [ 0.62,  0.5 ,  0.  ,   inf,  0.  ],\n",
       "       [ 0.24,  0.  ,  0.07,  0.62,   inf],\n",
       "       [ 0.  ,  0.18,   inf,  0.  ,  0.  ]])"
      ]
     },
     "execution_count": 19,
     "metadata": {},
     "output_type": "execute_result"
    }
   ],
   "source": [
    "C3, C3_mc = col_transform(C3)\n",
    "C3"
   ]
  },
  {
   "cell_type": "code",
   "execution_count": 20,
   "metadata": {},
   "outputs": [
    {
     "data": {
      "text/plain": [
       "array([ 0.17,  0.  ,  1.7 ,  0.25,  0.  ])"
      ]
     },
     "execution_count": 20,
     "metadata": {},
     "output_type": "execute_result"
    }
   ],
   "source": [
    "C3_mc"
   ]
  },
  {
   "cell_type": "code",
   "execution_count": null,
   "metadata": {},
   "outputs": [],
   "source": []
  },
  {
   "cell_type": "code",
   "execution_count": 21,
   "metadata": {},
   "outputs": [
    {
     "data": {
      "text/plain": [
       "2.1200000000000001"
      ]
     },
     "execution_count": 21,
     "metadata": {},
     "output_type": "execute_result"
    }
   ],
   "source": [
    "l3 = C3_mr.sum() + C3_mc.sum()\n",
    "l3.round(2)"
   ]
  },
  {
   "cell_type": "code",
   "execution_count": 22,
   "metadata": {},
   "outputs": [
    {
     "data": {
      "text/plain": [
       "52.170000000000002"
      ]
     },
     "execution_count": 22,
     "metadata": {},
     "output_type": "execute_result"
    }
   ],
   "source": [
    "round(l2 + l3, 2)"
   ]
  },
  {
   "cell_type": "code",
   "execution_count": 23,
   "metadata": {},
   "outputs": [
    {
     "data": {
      "text/plain": [
       "array([[ -inf,  -inf,  -inf,  -inf,  0.3 ],\n",
       "       [ -inf,  -inf,  -inf,  -inf,  0.53],\n",
       "       [ -inf,  -inf,  0.07,  -inf,  0.  ],\n",
       "       [ -inf,  0.25,  -inf,  -inf,  -inf],\n",
       "       [ 0.24,  -inf,  -inf,  0.62,  0.  ]])"
      ]
     },
     "execution_count": 23,
     "metadata": {},
     "output_type": "execute_result"
    }
   ],
   "source": [
    "H3 = heuristic(C3)\n",
    "H3"
   ]
  },
  {
   "cell_type": "code",
   "execution_count": 29,
   "metadata": {},
   "outputs": [
    {
     "data": {
      "text/plain": [
       "52.7"
      ]
     },
     "execution_count": 29,
     "metadata": {},
     "output_type": "execute_result"
    }
   ],
   "source": [
    "52.17+.53"
   ]
  },
  {
   "cell_type": "code",
   "execution_count": 34,
   "metadata": {},
   "outputs": [
    {
     "data": {
      "text/plain": [
       "array([[  inf,  0.56,  0.3 ,  1.05],\n",
       "       [ 0.62,  0.5 ,  0.  ,   inf],\n",
       "       [ 0.24,   inf,  0.07,  0.62],\n",
       "       [ 0.  ,  0.18,   inf,  0.  ]])"
      ]
     },
     "execution_count": 34,
     "metadata": {},
     "output_type": "execute_result"
    }
   ],
   "source": [
    "C4 = C3[[0,2,3,4,], :][:, :-1]\n",
    "C4[2, 1] = np.infty\n",
    "C4"
   ]
  },
  {
   "cell_type": "code",
   "execution_count": 35,
   "metadata": {
    "scrolled": true
   },
   "outputs": [
    {
     "name": "stdout",
     "output_type": "stream",
     "text": [
      "[[ 0.3 ]\n",
      " [ 0.  ]\n",
      " [ 0.07]\n",
      " [ 0.  ]]\n"
     ]
    },
    {
     "data": {
      "text/plain": [
       "array([[  inf,  0.26,  0.  ,  0.75],\n",
       "       [ 0.62,  0.5 ,  0.  ,   inf],\n",
       "       [ 0.17,   inf,  0.  ,  0.55],\n",
       "       [ 0.  ,  0.18,   inf,  0.  ]])"
      ]
     },
     "execution_count": 35,
     "metadata": {},
     "output_type": "execute_result"
    }
   ],
   "source": [
    "C4, C4mr = row_transform(C4)\n",
    "print(C4mr)\n",
    "C4"
   ]
  },
  {
   "cell_type": "code",
   "execution_count": 39,
   "metadata": {},
   "outputs": [
    {
     "name": "stdout",
     "output_type": "stream",
     "text": [
      "[ 0.    0.18  0.    0.  ]\n"
     ]
    },
    {
     "data": {
      "text/plain": [
       "array([[  inf,  0.08,  0.  ,  0.75],\n",
       "       [ 0.62,  0.32,  0.  ,   inf],\n",
       "       [ 0.17,   inf,  0.  ,  0.55],\n",
       "       [ 0.  ,  0.  ,   inf,  0.  ]])"
      ]
     },
     "execution_count": 39,
     "metadata": {},
     "output_type": "execute_result"
    }
   ],
   "source": [
    "C4, C4mc = col_transform(C4)\n",
    "print(C4mc)\n",
    "C4"
   ]
  },
  {
   "cell_type": "code",
   "execution_count": 40,
   "metadata": {},
   "outputs": [
    {
     "data": {
      "text/plain": [
       "array([[ -inf,  -inf,  0.08,  -inf],\n",
       "       [ -inf,  -inf,  0.32,  -inf],\n",
       "       [ -inf,  -inf,  0.17,  -inf],\n",
       "       [ 0.17,  0.08,  -inf,  0.55]])"
      ]
     },
     "execution_count": 40,
     "metadata": {},
     "output_type": "execute_result"
    }
   ],
   "source": [
    "H4 = heuristic(C4)\n",
    "H4"
   ]
  },
  {
   "cell_type": "code",
   "execution_count": 42,
   "metadata": {},
   "outputs": [
    {
     "data": {
      "text/plain": [
       "0.55000000000000004"
      ]
     },
     "execution_count": 42,
     "metadata": {},
     "output_type": "execute_result"
    }
   ],
   "source": [
    "L4 = C4mr.sum() + C4mc.sum()\n",
    "L4"
   ]
  },
  {
   "cell_type": "code",
   "execution_count": 44,
   "metadata": {},
   "outputs": [
    {
     "data": {
      "text/plain": [
       "52.719999999999999"
      ]
     },
     "execution_count": 44,
     "metadata": {},
     "output_type": "execute_result"
    }
   ],
   "source": [
    "L4 + l3 + l2"
   ]
  },
  {
   "cell_type": "code",
   "execution_count": 46,
   "metadata": {},
   "outputs": [
    {
     "data": {
      "text/plain": [
       "53.27"
      ]
     },
     "execution_count": 46,
     "metadata": {},
     "output_type": "execute_result"
    }
   ],
   "source": [
    "round(52.72+.55, 2)"
   ]
  },
  {
   "cell_type": "code",
   "execution_count": 47,
   "metadata": {},
   "outputs": [
    {
     "data": {
      "text/plain": [
       "array([[  inf,  0.08,  0.  ],\n",
       "       [ 0.62,  0.32,  0.  ],\n",
       "       [ 0.17,   inf,  0.  ]])"
      ]
     },
     "execution_count": 47,
     "metadata": {},
     "output_type": "execute_result"
    }
   ],
   "source": [
    "C5 = C4[:-1,:][:,:-1]\n",
    "C5"
   ]
  },
  {
   "cell_type": "code",
   "execution_count": 48,
   "metadata": {},
   "outputs": [
    {
     "data": {
      "text/plain": [
       "array([[  inf,  0.  ,  0.  ],\n",
       "       [ 0.45,  0.24,  0.  ],\n",
       "       [ 0.  ,   inf,  0.  ]])"
      ]
     },
     "execution_count": 48,
     "metadata": {},
     "output_type": "execute_result"
    }
   ],
   "source": [
    "C5, C5mc = col_transform(C5)\n",
    "C5"
   ]
  },
  {
   "cell_type": "code",
   "execution_count": 49,
   "metadata": {},
   "outputs": [
    {
     "data": {
      "text/plain": [
       "(0.24999999999999992, array([ 0.17,  0.08,  0.  ]))"
      ]
     },
     "execution_count": 49,
     "metadata": {},
     "output_type": "execute_result"
    }
   ],
   "source": [
    "C5mc.sum(), C5mc"
   ]
  },
  {
   "cell_type": "code",
   "execution_count": 51,
   "metadata": {},
   "outputs": [
    {
     "data": {
      "text/plain": [
       "52.969999999999999"
      ]
     },
     "execution_count": 51,
     "metadata": {},
     "output_type": "execute_result"
    }
   ],
   "source": [
    "L5 = C5mc.sum()\n",
    "round(L5 + L4 + l3 + l2, 2)"
   ]
  },
  {
   "cell_type": "code",
   "execution_count": 53,
   "metadata": {},
   "outputs": [
    {
     "data": {
      "text/plain": [
       "array([[ -inf,  0.24,  0.  ],\n",
       "       [ -inf,  -inf,  0.24],\n",
       "       [ 0.45,  -inf,  0.  ]])"
      ]
     },
     "execution_count": 53,
     "metadata": {},
     "output_type": "execute_result"
    }
   ],
   "source": [
    "H5 = heuristic(C5)\n",
    "H5"
   ]
  },
  {
   "cell_type": "code",
   "execution_count": 54,
   "metadata": {},
   "outputs": [
    {
     "data": {
      "text/plain": [
       "53.42"
      ]
     },
     "execution_count": 54,
     "metadata": {},
     "output_type": "execute_result"
    }
   ],
   "source": [
    "52.97 + .45"
   ]
  },
  {
   "cell_type": "code",
   "execution_count": 55,
   "metadata": {},
   "outputs": [
    {
     "data": {
      "text/plain": [
       "53.29"
      ]
     },
     "execution_count": 55,
     "metadata": {},
     "output_type": "execute_result"
    }
   ],
   "source": [
    "52.97+.32"
   ]
  },
  {
   "cell_type": "code",
   "execution_count": 56,
   "metadata": {},
   "outputs": [
    {
     "data": {
      "text/plain": [
       "array([[  inf,  0.08,  0.  ,  0.75],\n",
       "       [ 0.62,  0.32,  0.  ,   inf],\n",
       "       [ 0.17,   inf,  0.  ,  0.55],\n",
       "       [ 0.  ,  0.  ,   inf,  0.  ]])"
      ]
     },
     "execution_count": 56,
     "metadata": {},
     "output_type": "execute_result"
    }
   ],
   "source": [
    "C7 = C4.copy()\n",
    "C7"
   ]
  },
  {
   "cell_type": "code",
   "execution_count": null,
   "metadata": {
    "collapsed": true
   },
   "outputs": [],
   "source": []
  }
 ],
 "metadata": {
  "kernelspec": {
   "display_name": "Python 3",
   "language": "python",
   "name": "python3"
  },
  "language_info": {
   "codemirror_mode": {
    "name": "ipython",
    "version": 3
   },
   "file_extension": ".py",
   "mimetype": "text/x-python",
   "name": "python",
   "nbconvert_exporter": "python",
   "pygments_lexer": "ipython3",
   "version": "3.6.3"
  }
 },
 "nbformat": 4,
 "nbformat_minor": 2
}
