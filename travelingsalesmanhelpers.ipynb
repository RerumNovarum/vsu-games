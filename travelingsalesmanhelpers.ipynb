{
 "cells": [
  {
   "cell_type": "code",
   "execution_count": 1,
   "metadata": {
    "collapsed": true
   },
   "outputs": [],
   "source": [
    "import numpy as np"
   ]
  },
  {
   "cell_type": "code",
   "execution_count": 4,
   "metadata": {},
   "outputs": [
    {
     "data": {
      "text/plain": [
       "array([[  7.  ,   7.  ,   7.  ,   7.  ,   7.  ,   7.  ],\n",
       "       [ 11.21,   9.27,   5.25,   2.83,   4.25,   8.19],\n",
       "       [ 11.55,   9.46,   5.11,   2.5 ,   4.03,   8.29],\n",
       "       [  7.71,   7.38,   6.71,   6.3 ,   6.54,   7.2 ],\n",
       "       [  3.22,   4.96,   8.57,  10.75,   9.47,   5.93],\n",
       "       [  2.21,   4.41,   9.  ,  11.75,  10.13,   5.64]])"
      ]
     },
     "execution_count": 4,
     "metadata": {},
     "output_type": "execute_result"
    }
   ],
   "source": [
    "N=6\n",
    "C = np.array([\n",
    "    [7+5*np.sin(i)*np.cos(j) for j in range(N)]\n",
    "    for i in range(N)\n",
    "])\n",
    "C = C.round(2)"
   ]
  },
  {
   "cell_type": "code",
   "execution_count": 14,
   "metadata": {},
   "outputs": [
    {
     "data": {
      "text/plain": [
       "array([[ 7.  ],\n",
       "       [ 2.83],\n",
       "       [ 2.5 ],\n",
       "       [ 6.3 ],\n",
       "       [ 3.22],\n",
       "       [ 2.21]])"
      ]
     },
     "execution_count": 14,
     "metadata": {},
     "output_type": "execute_result"
    }
   ],
   "source": [
    "min1 = np.min(C, axis=1).reshape((-1,1))\n",
    "min1.round(2)"
   ]
  },
  {
   "cell_type": "code",
   "execution_count": 15,
   "metadata": {},
   "outputs": [
    {
     "data": {
      "text/plain": [
       "array([[ 0.  ,  0.  ,  0.  ,  0.  ,  0.  ,  0.  ],\n",
       "       [ 8.37,  6.44,  2.41,  0.  ,  1.42,  5.36],\n",
       "       [ 9.05,  6.96,  2.61,  0.  ,  1.53,  5.79],\n",
       "       [ 1.4 ,  1.08,  0.4 ,  0.  ,  0.24,  0.9 ],\n",
       "       [ 0.  ,  1.74,  5.36,  7.53,  6.26,  2.71],\n",
       "       [ 0.  ,  2.2 ,  6.79,  9.54,  7.93,  3.43]])"
      ]
     },
     "execution_count": 15,
     "metadata": {},
     "output_type": "execute_result"
    }
   ],
   "source": [
    "C2 = C - min1\n",
    "C2 = C2.round(2)\n",
    "C2"
   ]
  },
  {
   "cell_type": "code",
   "execution_count": 22,
   "metadata": {},
   "outputs": [
    {
     "data": {
      "text/plain": [
       "array([ 0.,  0.,  0.,  0.,  0.,  0.])"
      ]
     },
     "execution_count": 22,
     "metadata": {},
     "output_type": "execute_result"
    }
   ],
   "source": [
    "min2 = np.min(C2, axis=0).round(2)\n",
    "min2"
   ]
  },
  {
   "cell_type": "code",
   "execution_count": 95,
   "metadata": {},
   "outputs": [
    {
     "data": {
      "text/plain": [
       "24.059999999999999"
      ]
     },
     "execution_count": 95,
     "metadata": {},
     "output_type": "execute_result"
    }
   ],
   "source": [
    "l1 = min1.sum().round(2)\n",
    "l1"
   ]
  },
  {
   "cell_type": "code",
   "execution_count": 25,
   "metadata": {
    "collapsed": true
   },
   "outputs": [],
   "source": [
    "import itertools"
   ]
  },
  {
   "cell_type": "code",
   "execution_count": 40,
   "metadata": {},
   "outputs": [],
   "source": [
    "def heuristic(C):\n",
    "    S = np.zeros(C.shape)\n",
    "    for i, j in itertools.product(*[range(d) for d in C.shape]):\n",
    "        if C[i,j].round(2) != 0:\n",
    "            S[i,j] = -np.infty\n",
    "            continue\n",
    "        mr, mc = 2*[np.infty]\n",
    "        for i1 in range(C.shape[0]):\n",
    "            if i1 == i: continue\n",
    "            mc = min(mc, C[i1, j])\n",
    "        for j1 in range(C.shape[1]):\n",
    "            if j1 == j: continue\n",
    "            mr = min(mr, C[i, j1])\n",
    "        S[i,j] = mr + mc\n",
    "    return S"
   ]
  },
  {
   "cell_type": "code",
   "execution_count": 41,
   "metadata": {},
   "outputs": [
    {
     "data": {
      "text/plain": [
       "array([[ 0.  ,  1.08,  0.4 ,  0.  ,  0.24,  0.9 ],\n",
       "       [ -inf,  -inf,  -inf,  1.42,  -inf,  -inf],\n",
       "       [ -inf,  -inf,  -inf,  1.53,  -inf,  -inf],\n",
       "       [ -inf,  -inf,  -inf,  0.24,  -inf,  -inf],\n",
       "       [ 1.74,  -inf,  -inf,  -inf,  -inf,  -inf],\n",
       "       [ 2.2 ,  -inf,  -inf,  -inf,  -inf,  -inf]])"
      ]
     },
     "execution_count": 41,
     "metadata": {},
     "output_type": "execute_result"
    }
   ],
   "source": [
    "H2 = heuristic(C2)\n",
    "H2"
   ]
  },
  {
   "cell_type": "code",
   "execution_count": null,
   "metadata": {},
   "outputs": [],
   "source": []
  },
  {
   "cell_type": "code",
   "execution_count": 42,
   "metadata": {},
   "outputs": [
    {
     "data": {
      "text/plain": [
       "(26.77, 26.77)"
      ]
     },
     "execution_count": 42,
     "metadata": {},
     "output_type": "execute_result"
    }
   ],
   "source": [
    "B1u = 7+2.83+6.71+4.3+5.93+3.21\n",
    "B1u, round(B1, 2)"
   ]
  },
  {
   "cell_type": "code",
   "execution_count": 50,
   "metadata": {},
   "outputs": [
    {
     "data": {
      "text/plain": [
       "array([[ 0.  ,  0.  ,  0.  ,  0.  ,  0.  ,  0.  ],\n",
       "       [ 8.37,  6.44,  2.41,  0.  ,  1.42,  5.36],\n",
       "       [ 9.05,  6.96,  2.61,  0.  ,  1.53,  5.79],\n",
       "       [ 1.4 ,  1.08,  0.4 ,  0.  ,  0.24,  0.9 ],\n",
       "       [ 0.  ,  1.74,  5.36,  7.53,  6.26,  2.71],\n",
       "       [ 0.  ,  2.2 ,  6.79,  9.54,  7.93,  3.43]])"
      ]
     },
     "execution_count": 50,
     "metadata": {},
     "output_type": "execute_result"
    }
   ],
   "source": [
    "C2"
   ]
  },
  {
   "cell_type": "code",
   "execution_count": 60,
   "metadata": {},
   "outputs": [
    {
     "data": {
      "text/plain": [
       "array([[ 0.  ,  0.  ,  0.  ,  0.  ,   inf],\n",
       "       [ 6.44,  2.41,  0.  ,  1.42,  5.36],\n",
       "       [ 6.96,  2.61,  0.  ,  1.53,  5.79],\n",
       "       [ 1.08,  0.4 ,  0.  ,  0.24,  0.9 ],\n",
       "       [ 1.74,  5.36,  7.53,  6.26,  2.71]])"
      ]
     },
     "execution_count": 60,
     "metadata": {},
     "output_type": "execute_result"
    }
   ],
   "source": [
    "C_2_1 = C2[np.array([1,2,3,4,5])-1, :]\n",
    "C_2_1 = C_2_1[:,np.array([2,3,4,5,6])-1]\n",
    "C_2_1[0,-1] = np.infty\n",
    "C_2_1"
   ]
  },
  {
   "cell_type": "code",
   "execution_count": null,
   "metadata": {
    "collapsed": true
   },
   "outputs": [],
   "source": []
  },
  {
   "cell_type": "code",
   "execution_count": 66,
   "metadata": {},
   "outputs": [
    {
     "data": {
      "text/plain": [
       "array([[ 0.  ],\n",
       "       [ 0.  ],\n",
       "       [ 0.  ],\n",
       "       [ 0.  ],\n",
       "       [ 1.74]])"
      ]
     },
     "execution_count": 66,
     "metadata": {},
     "output_type": "execute_result"
    }
   ],
   "source": [
    "C_2_1_mr = np.min(C_2_1, axis=1).reshape((-1,1))\n",
    "C_2_1_mr"
   ]
  },
  {
   "cell_type": "code",
   "execution_count": 63,
   "metadata": {},
   "outputs": [
    {
     "data": {
      "text/plain": [
       "array([[ 0.  ,  0.  ,  0.  ,  0.  ,   inf],\n",
       "       [ 6.44,  2.41,  0.  ,  1.42,  5.36],\n",
       "       [ 6.96,  2.61,  0.  ,  1.53,  5.79],\n",
       "       [ 1.08,  0.4 ,  0.  ,  0.24,  0.9 ],\n",
       "       [ 0.  ,  3.62,  5.79,  4.52,  0.97]])"
      ]
     },
     "execution_count": 63,
     "metadata": {},
     "output_type": "execute_result"
    }
   ],
   "source": [
    "C_2_1_cor = C_2_1 - C_2_1_mr\n",
    "C_2_1_cor"
   ]
  },
  {
   "cell_type": "code",
   "execution_count": 67,
   "metadata": {},
   "outputs": [
    {
     "data": {
      "text/plain": [
       "array([ 0. ,  0. ,  0. ,  0. ,  0.9])"
      ]
     },
     "execution_count": 67,
     "metadata": {},
     "output_type": "execute_result"
    }
   ],
   "source": [
    "C_2_1_mc = C_2_1_cor.min(axis=0)\n",
    "C_2_1_mc"
   ]
  },
  {
   "cell_type": "code",
   "execution_count": 68,
   "metadata": {},
   "outputs": [
    {
     "data": {
      "text/plain": [
       "array([[ 0.  ,  0.  ,  0.  ,  0.  ,   inf],\n",
       "       [ 6.44,  2.41,  0.  ,  1.42,  4.46],\n",
       "       [ 6.96,  2.61,  0.  ,  1.53,  4.89],\n",
       "       [ 1.08,  0.4 ,  0.  ,  0.24,  0.  ],\n",
       "       [ 0.  ,  3.62,  5.79,  4.52,  0.07]])"
      ]
     },
     "execution_count": 68,
     "metadata": {},
     "output_type": "execute_result"
    }
   ],
   "source": [
    "C_2_1_cor2 = C_2_1_cor - C_2_1_mc\n",
    "C_2_1_cor2"
   ]
  },
  {
   "cell_type": "code",
   "execution_count": 97,
   "metadata": {},
   "outputs": [
    {
     "data": {
      "text/plain": [
       "2.6400000000000001"
      ]
     },
     "execution_count": 97,
     "metadata": {},
     "output_type": "execute_result"
    }
   ],
   "source": [
    "l2_1 = C_2_1_mr.sum() + C_2_1_mc.sum()\n",
    "l2_1"
   ]
  },
  {
   "cell_type": "code",
   "execution_count": 98,
   "metadata": {},
   "outputs": [
    {
     "data": {
      "text/plain": [
       "26.699999999999999"
      ]
     },
     "execution_count": 98,
     "metadata": {},
     "output_type": "execute_result"
    }
   ],
   "source": [
    "round(l1 + l2_1, 2)"
   ]
  },
  {
   "cell_type": "code",
   "execution_count": 70,
   "metadata": {},
   "outputs": [
    {
     "data": {
      "text/plain": [
       "29.98"
      ]
     },
     "execution_count": 70,
     "metadata": {},
     "output_type": "execute_result"
    }
   ],
   "source": [
    "26.77+3.21"
   ]
  },
  {
   "cell_type": "code",
   "execution_count": 72,
   "metadata": {},
   "outputs": [
    {
     "data": {
      "text/plain": [
       "2.6400000000000001"
      ]
     },
     "execution_count": 72,
     "metadata": {},
     "output_type": "execute_result"
    }
   ],
   "source": [
    "round(C_2_1_mr.sum() + C_2_1_mc.sum(),2)"
   ]
  },
  {
   "cell_type": "code",
   "execution_count": 73,
   "metadata": {},
   "outputs": [
    {
     "data": {
      "text/plain": [
       "array([[ 0.  ,  0.4 ,  0.  ,  0.24,  -inf],\n",
       "       [ -inf,  -inf,  1.42,  -inf,  -inf],\n",
       "       [ -inf,  -inf,  1.53,  -inf,  -inf],\n",
       "       [ -inf,  -inf,  0.  ,  -inf,  0.07],\n",
       "       [ 0.07,  -inf,  -inf,  -inf,  -inf]])"
      ]
     },
     "execution_count": 73,
     "metadata": {},
     "output_type": "execute_result"
    }
   ],
   "source": [
    "H21 = heuristic(C_2_1_cor2)\n",
    "H21"
   ]
  },
  {
   "cell_type": "code",
   "execution_count": 76,
   "metadata": {
    "collapsed": true
   },
   "outputs": [],
   "source": [
    "def row_transform(C):\n",
    "    mins = np.min(C, axis=1).reshape((-1,1))\n",
    "    return C - mins, mins\n",
    "\n",
    "def col_transform(C):\n",
    "    mins = np.min(C, axis=0)\n",
    "    return C - mins, mins"
   ]
  },
  {
   "cell_type": "code",
   "execution_count": 99,
   "metadata": {},
   "outputs": [
    {
     "data": {
      "text/plain": [
       "array([[ 0.  ,  0.  ,  0.  ,  0.  ,  0.  ,  0.  ],\n",
       "       [ 8.37,  6.44,  2.41,  0.  ,  1.42,  5.36],\n",
       "       [ 9.05,  6.96,  2.61,  0.  ,  1.53,  5.79],\n",
       "       [ 1.4 ,  1.08,  0.4 ,  0.  ,  0.24,  0.9 ],\n",
       "       [ 0.  ,  1.74,  5.36,  7.53,  6.26,  2.71],\n",
       "       [  inf,  2.2 ,  6.79,  9.54,  7.93,  3.43]])"
      ]
     },
     "execution_count": 99,
     "metadata": {},
     "output_type": "execute_result"
    }
   ],
   "source": [
    "C_2_2 = C2.copy()\n",
    "C_2_2[6-1,1-1] = np.infty\n",
    "C_2_2"
   ]
  },
  {
   "cell_type": "code",
   "execution_count": 100,
   "metadata": {},
   "outputs": [
    {
     "data": {
      "text/plain": [
       "array([[ 0.  ,  0.  ,  0.  ,  0.  ,  0.  ,  0.  ],\n",
       "       [ 8.37,  6.44,  2.41,  0.  ,  1.42,  5.36],\n",
       "       [ 9.05,  6.96,  2.61,  0.  ,  1.53,  5.79],\n",
       "       [ 1.4 ,  1.08,  0.4 ,  0.  ,  0.24,  0.9 ],\n",
       "       [ 0.  ,  1.74,  5.36,  7.53,  6.26,  2.71],\n",
       "       [  inf,  0.  ,  4.59,  7.34,  5.73,  1.23]])"
      ]
     },
     "execution_count": 100,
     "metadata": {},
     "output_type": "execute_result"
    }
   ],
   "source": [
    "C_2_2, C_2_2_mr = row_transform(C_2_2)\n",
    "C_2_2, C_2_2_mc = col_transform(C_2_2)\n",
    "C_2_2 = C_2_2.round(2)\n",
    "C_2_2"
   ]
  },
  {
   "cell_type": "code",
   "execution_count": 105,
   "metadata": {},
   "outputs": [
    {
     "data": {
      "text/plain": [
       "2.2000000000000002"
      ]
     },
     "execution_count": 105,
     "metadata": {},
     "output_type": "execute_result"
    }
   ],
   "source": [
    "l2_2 = C_2_2_mr.sum() + C_2_2_mc.sum()\n",
    "l2_2.round(2)"
   ]
  },
  {
   "cell_type": "code",
   "execution_count": 102,
   "metadata": {},
   "outputs": [
    {
     "data": {
      "text/plain": [
       "(array([[ 0. ],\n",
       "        [ 0. ],\n",
       "        [ 0. ],\n",
       "        [ 0. ],\n",
       "        [ 0. ],\n",
       "        [ 2.2]]), array([ 0.,  0.,  0.,  0.,  0.,  0.]))"
      ]
     },
     "execution_count": 102,
     "metadata": {},
     "output_type": "execute_result"
    }
   ],
   "source": [
    "C_2_2_mr, C_2_2_mc"
   ]
  },
  {
   "cell_type": "code",
   "execution_count": null,
   "metadata": {
    "collapsed": true
   },
   "outputs": [],
   "source": []
  },
  {
   "cell_type": "code",
   "execution_count": 106,
   "metadata": {},
   "outputs": [
    {
     "data": {
      "text/plain": [
       "26.259999999999998"
      ]
     },
     "execution_count": 106,
     "metadata": {},
     "output_type": "execute_result"
    }
   ],
   "source": [
    "l1 + l2_2"
   ]
  },
  {
   "cell_type": "code",
   "execution_count": null,
   "metadata": {
    "collapsed": true
   },
   "outputs": [],
   "source": []
  }
 ],
 "metadata": {
  "kernelspec": {
   "display_name": "Python 3",
   "language": "python",
   "name": "python3"
  },
  "language_info": {
   "codemirror_mode": {
    "name": "ipython",
    "version": 3
   },
   "file_extension": ".py",
   "mimetype": "text/x-python",
   "name": "python",
   "nbconvert_exporter": "python",
   "pygments_lexer": "ipython3",
   "version": "3.6.3"
  }
 },
 "nbformat": 4,
 "nbformat_minor": 2
}
