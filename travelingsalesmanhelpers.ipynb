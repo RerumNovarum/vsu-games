{
 "cells": [
  {
   "cell_type": "code",
   "execution_count": 1,
   "metadata": {
    "collapsed": true
   },
   "outputs": [],
   "source": [
    "import numpy as np"
   ]
  },
  {
   "cell_type": "code",
   "execution_count": 2,
   "metadata": {},
   "outputs": [],
   "source": [
    "N=6\n",
    "C = np.array([\n",
    "    [7+5*np.sin(i)*np.cos(j) for j in range(N)]\n",
    "    for i in range(N)\n",
    "])\n",
    "C = C.round(2)"
   ]
  },
  {
   "cell_type": "code",
   "execution_count": 3,
   "metadata": {},
   "outputs": [
    {
     "data": {
      "text/plain": [
       "array([[ 7.  ],\n",
       "       [ 2.83],\n",
       "       [ 2.5 ],\n",
       "       [ 6.3 ],\n",
       "       [ 3.22],\n",
       "       [ 2.21]])"
      ]
     },
     "execution_count": 3,
     "metadata": {},
     "output_type": "execute_result"
    }
   ],
   "source": [
    "min1 = np.min(C, axis=1).reshape((-1,1))\n",
    "min1.round(2)"
   ]
  },
  {
   "cell_type": "code",
   "execution_count": 4,
   "metadata": {},
   "outputs": [
    {
     "data": {
      "text/plain": [
       "array([[ 0.  ,  0.  ,  0.  ,  0.  ,  0.  ,  0.  ],\n",
       "       [ 8.38,  6.44,  2.42,  0.  ,  1.42,  5.36],\n",
       "       [ 9.05,  6.96,  2.61,  0.  ,  1.53,  5.79],\n",
       "       [ 1.41,  1.08,  0.41,  0.  ,  0.24,  0.9 ],\n",
       "       [ 0.  ,  1.74,  5.35,  7.53,  6.25,  2.71],\n",
       "       [ 0.  ,  2.2 ,  6.79,  9.54,  7.92,  3.43]])"
      ]
     },
     "execution_count": 4,
     "metadata": {},
     "output_type": "execute_result"
    }
   ],
   "source": [
    "C2 = C - min1\n",
    "C2 = C2.round(2)\n",
    "C2"
   ]
  },
  {
   "cell_type": "code",
   "execution_count": 5,
   "metadata": {},
   "outputs": [
    {
     "data": {
      "text/plain": [
       "array([ 0.,  0.,  0.,  0.,  0.,  0.])"
      ]
     },
     "execution_count": 5,
     "metadata": {},
     "output_type": "execute_result"
    }
   ],
   "source": [
    "min2 = np.min(C2, axis=0).round(2)\n",
    "min2"
   ]
  },
  {
   "cell_type": "code",
   "execution_count": 6,
   "metadata": {},
   "outputs": [
    {
     "data": {
      "text/plain": [
       "24.059999999999999"
      ]
     },
     "execution_count": 6,
     "metadata": {},
     "output_type": "execute_result"
    }
   ],
   "source": [
    "l1 = min1.sum().round(2)\n",
    "l1"
   ]
  },
  {
   "cell_type": "code",
   "execution_count": 7,
   "metadata": {
    "collapsed": true
   },
   "outputs": [],
   "source": [
    "import itertools"
   ]
  },
  {
   "cell_type": "code",
   "execution_count": 8,
   "metadata": {
    "collapsed": true
   },
   "outputs": [],
   "source": [
    "def heuristic(C):\n",
    "    S = np.zeros(C.shape)\n",
    "    for i, j in itertools.product(*[range(d) for d in C.shape]):\n",
    "        if C[i,j].round(2) != 0:\n",
    "            S[i,j] = -np.infty\n",
    "            continue\n",
    "        mr, mc = 2*[np.infty]\n",
    "        for i1 in range(C.shape[0]):\n",
    "            if i1 == i: continue\n",
    "            mc = min(mc, C[i1, j])\n",
    "        for j1 in range(C.shape[1]):\n",
    "            if j1 == j: continue\n",
    "            mr = min(mr, C[i, j1])\n",
    "        S[i,j] = mr + mc\n",
    "    return S"
   ]
  },
  {
   "cell_type": "code",
   "execution_count": 9,
   "metadata": {},
   "outputs": [
    {
     "data": {
      "text/plain": [
       "array([[ 0.  ,  1.08,  0.41,  0.  ,  0.24,  0.9 ],\n",
       "       [ -inf,  -inf,  -inf,  1.42,  -inf,  -inf],\n",
       "       [ -inf,  -inf,  -inf,  1.53,  -inf,  -inf],\n",
       "       [ -inf,  -inf,  -inf,  0.24,  -inf,  -inf],\n",
       "       [ 1.74,  -inf,  -inf,  -inf,  -inf,  -inf],\n",
       "       [ 2.2 ,  -inf,  -inf,  -inf,  -inf,  -inf]])"
      ]
     },
     "execution_count": 9,
     "metadata": {},
     "output_type": "execute_result"
    }
   ],
   "source": [
    "H2 = heuristic(C2)\n",
    "H2"
   ]
  },
  {
   "cell_type": "code",
   "execution_count": null,
   "metadata": {
    "collapsed": true
   },
   "outputs": [],
   "source": []
  },
  {
   "cell_type": "code",
   "execution_count": 10,
   "metadata": {},
   "outputs": [
    {
     "data": {
      "text/plain": [
       "(29.98, 29.98)"
      ]
     },
     "execution_count": 10,
     "metadata": {},
     "output_type": "execute_result"
    }
   ],
   "source": [
    "B1u = 7+2.83+6.71+4.3+5.93+3.21\n",
    "B1u, round(B1u, 2)"
   ]
  },
  {
   "cell_type": "code",
   "execution_count": 11,
   "metadata": {},
   "outputs": [
    {
     "data": {
      "text/plain": [
       "array([[ 0.  ,  0.  ,  0.  ,  0.  ,  0.  ,  0.  ],\n",
       "       [ 8.38,  6.44,  2.42,  0.  ,  1.42,  5.36],\n",
       "       [ 9.05,  6.96,  2.61,  0.  ,  1.53,  5.79],\n",
       "       [ 1.41,  1.08,  0.41,  0.  ,  0.24,  0.9 ],\n",
       "       [ 0.  ,  1.74,  5.35,  7.53,  6.25,  2.71],\n",
       "       [ 0.  ,  2.2 ,  6.79,  9.54,  7.92,  3.43]])"
      ]
     },
     "execution_count": 11,
     "metadata": {},
     "output_type": "execute_result"
    }
   ],
   "source": [
    "C2"
   ]
  },
  {
   "cell_type": "code",
   "execution_count": 12,
   "metadata": {},
   "outputs": [
    {
     "data": {
      "text/plain": [
       "array([[ 0.  ,  0.  ,  0.  ,  0.  ,   inf],\n",
       "       [ 6.44,  2.42,  0.  ,  1.42,  5.36],\n",
       "       [ 6.96,  2.61,  0.  ,  1.53,  5.79],\n",
       "       [ 1.08,  0.41,  0.  ,  0.24,  0.9 ],\n",
       "       [ 1.74,  5.35,  7.53,  6.25,  2.71]])"
      ]
     },
     "execution_count": 12,
     "metadata": {},
     "output_type": "execute_result"
    }
   ],
   "source": [
    "C_2_1 = C2[np.array([1,2,3,4,5])-1, :]\n",
    "C_2_1 = C_2_1[:,np.array([2,3,4,5,6])-1]\n",
    "C_2_1[0,-1] = np.infty\n",
    "C_2_1"
   ]
  },
  {
   "cell_type": "code",
   "execution_count": null,
   "metadata": {
    "collapsed": true
   },
   "outputs": [],
   "source": []
  },
  {
   "cell_type": "code",
   "execution_count": 13,
   "metadata": {},
   "outputs": [
    {
     "data": {
      "text/plain": [
       "array([[ 0.  ],\n",
       "       [ 0.  ],\n",
       "       [ 0.  ],\n",
       "       [ 0.  ],\n",
       "       [ 1.74]])"
      ]
     },
     "execution_count": 13,
     "metadata": {},
     "output_type": "execute_result"
    }
   ],
   "source": [
    "C_2_1_mr = np.min(C_2_1, axis=1).reshape((-1,1))\n",
    "C_2_1_mr"
   ]
  },
  {
   "cell_type": "code",
   "execution_count": 14,
   "metadata": {},
   "outputs": [
    {
     "data": {
      "text/plain": [
       "array([[ 0.  ,  0.  ,  0.  ,  0.  ,   inf],\n",
       "       [ 6.44,  2.42,  0.  ,  1.42,  5.36],\n",
       "       [ 6.96,  2.61,  0.  ,  1.53,  5.79],\n",
       "       [ 1.08,  0.41,  0.  ,  0.24,  0.9 ],\n",
       "       [ 0.  ,  3.61,  5.79,  4.51,  0.97]])"
      ]
     },
     "execution_count": 14,
     "metadata": {},
     "output_type": "execute_result"
    }
   ],
   "source": [
    "C_2_1_cor = C_2_1 - C_2_1_mr\n",
    "C_2_1_cor"
   ]
  },
  {
   "cell_type": "code",
   "execution_count": 15,
   "metadata": {},
   "outputs": [
    {
     "data": {
      "text/plain": [
       "array([ 0. ,  0. ,  0. ,  0. ,  0.9])"
      ]
     },
     "execution_count": 15,
     "metadata": {},
     "output_type": "execute_result"
    }
   ],
   "source": [
    "C_2_1_mc = C_2_1_cor.min(axis=0)\n",
    "C_2_1_mc"
   ]
  },
  {
   "cell_type": "code",
   "execution_count": 16,
   "metadata": {},
   "outputs": [
    {
     "data": {
      "text/plain": [
       "array([[ 0.  ,  0.  ,  0.  ,  0.  ,   inf],\n",
       "       [ 6.44,  2.42,  0.  ,  1.42,  4.46],\n",
       "       [ 6.96,  2.61,  0.  ,  1.53,  4.89],\n",
       "       [ 1.08,  0.41,  0.  ,  0.24,  0.  ],\n",
       "       [ 0.  ,  3.61,  5.79,  4.51,  0.07]])"
      ]
     },
     "execution_count": 16,
     "metadata": {},
     "output_type": "execute_result"
    }
   ],
   "source": [
    "C_2_1_cor2 = C_2_1_cor - C_2_1_mc\n",
    "C_2_1_cor2"
   ]
  },
  {
   "cell_type": "code",
   "execution_count": 17,
   "metadata": {},
   "outputs": [
    {
     "data": {
      "text/plain": [
       "2.6400000000000001"
      ]
     },
     "execution_count": 17,
     "metadata": {},
     "output_type": "execute_result"
    }
   ],
   "source": [
    "l2_1 = C_2_1_mr.sum() + C_2_1_mc.sum()\n",
    "l2_1"
   ]
  },
  {
   "cell_type": "code",
   "execution_count": 18,
   "metadata": {},
   "outputs": [
    {
     "data": {
      "text/plain": [
       "26.699999999999999"
      ]
     },
     "execution_count": 18,
     "metadata": {},
     "output_type": "execute_result"
    }
   ],
   "source": [
    "round(l1 + l2_1, 2)"
   ]
  },
  {
   "cell_type": "code",
   "execution_count": 19,
   "metadata": {},
   "outputs": [
    {
     "data": {
      "text/plain": [
       "29.98"
      ]
     },
     "execution_count": 19,
     "metadata": {},
     "output_type": "execute_result"
    }
   ],
   "source": [
    "26.77+3.21"
   ]
  },
  {
   "cell_type": "code",
   "execution_count": 20,
   "metadata": {},
   "outputs": [
    {
     "data": {
      "text/plain": [
       "2.6400000000000001"
      ]
     },
     "execution_count": 20,
     "metadata": {},
     "output_type": "execute_result"
    }
   ],
   "source": [
    "round(C_2_1_mr.sum() + C_2_1_mc.sum(),2)"
   ]
  },
  {
   "cell_type": "code",
   "execution_count": 21,
   "metadata": {},
   "outputs": [
    {
     "data": {
      "text/plain": [
       "array([[ 0.  ,  0.41,  0.  ,  0.24,  -inf],\n",
       "       [ -inf,  -inf,  1.42,  -inf,  -inf],\n",
       "       [ -inf,  -inf,  1.53,  -inf,  -inf],\n",
       "       [ -inf,  -inf,  0.  ,  -inf,  0.07],\n",
       "       [ 0.07,  -inf,  -inf,  -inf,  -inf]])"
      ]
     },
     "execution_count": 21,
     "metadata": {},
     "output_type": "execute_result"
    }
   ],
   "source": [
    "H21 = heuristic(C_2_1_cor2)\n",
    "H21"
   ]
  },
  {
   "cell_type": "code",
   "execution_count": 22,
   "metadata": {
    "collapsed": true
   },
   "outputs": [],
   "source": [
    "def row_transform(C):\n",
    "    mins = np.min(C, axis=1).reshape((-1,1))\n",
    "    return C - mins, mins\n",
    "\n",
    "def col_transform(C):\n",
    "    mins = np.min(C, axis=0)\n",
    "    return C - mins, mins"
   ]
  },
  {
   "cell_type": "code",
   "execution_count": 23,
   "metadata": {},
   "outputs": [
    {
     "data": {
      "text/plain": [
       "array([[ 0.  ,  0.  ,  0.  ,  0.  ,  0.  ,  0.  ],\n",
       "       [ 8.38,  6.44,  2.42,  0.  ,  1.42,  5.36],\n",
       "       [ 9.05,  6.96,  2.61,  0.  ,  1.53,  5.79],\n",
       "       [ 1.41,  1.08,  0.41,  0.  ,  0.24,  0.9 ],\n",
       "       [ 0.  ,  1.74,  5.35,  7.53,  6.25,  2.71],\n",
       "       [  inf,  2.2 ,  6.79,  9.54,  7.92,  3.43]])"
      ]
     },
     "execution_count": 23,
     "metadata": {},
     "output_type": "execute_result"
    }
   ],
   "source": [
    "C_2_2 = C2.copy()\n",
    "C_2_2[6-1,1-1] = np.infty\n",
    "C_2_2"
   ]
  },
  {
   "cell_type": "code",
   "execution_count": 24,
   "metadata": {},
   "outputs": [
    {
     "data": {
      "text/plain": [
       "array([[ 0.  ,  0.  ,  0.  ,  0.  ,  0.  ,  0.  ],\n",
       "       [ 8.38,  6.44,  2.42,  0.  ,  1.42,  5.36],\n",
       "       [ 9.05,  6.96,  2.61,  0.  ,  1.53,  5.79],\n",
       "       [ 1.41,  1.08,  0.41,  0.  ,  0.24,  0.9 ],\n",
       "       [ 0.  ,  1.74,  5.35,  7.53,  6.25,  2.71],\n",
       "       [  inf,  0.  ,  4.59,  7.34,  5.72,  1.23]])"
      ]
     },
     "execution_count": 24,
     "metadata": {},
     "output_type": "execute_result"
    }
   ],
   "source": [
    "C_2_2, C_2_2_mr = row_transform(C_2_2)\n",
    "C_2_2, C_2_2_mc = col_transform(C_2_2)\n",
    "C_2_2 = C_2_2.round(2)\n",
    "C_2_2"
   ]
  },
  {
   "cell_type": "code",
   "execution_count": 25,
   "metadata": {},
   "outputs": [
    {
     "data": {
      "text/plain": [
       "2.2000000000000002"
      ]
     },
     "execution_count": 25,
     "metadata": {},
     "output_type": "execute_result"
    }
   ],
   "source": [
    "l2_2 = C_2_2_mr.sum() + C_2_2_mc.sum()\n",
    "l2_2.round(2)"
   ]
  },
  {
   "cell_type": "code",
   "execution_count": 26,
   "metadata": {},
   "outputs": [
    {
     "data": {
      "text/plain": [
       "(array([[ 0. ],\n",
       "        [ 0. ],\n",
       "        [ 0. ],\n",
       "        [ 0. ],\n",
       "        [ 0. ],\n",
       "        [ 2.2]]), array([ 0.,  0.,  0.,  0.,  0.,  0.]))"
      ]
     },
     "execution_count": 26,
     "metadata": {},
     "output_type": "execute_result"
    }
   ],
   "source": [
    "C_2_2_mr, C_2_2_mc"
   ]
  },
  {
   "cell_type": "code",
   "execution_count": null,
   "metadata": {
    "collapsed": true
   },
   "outputs": [],
   "source": []
  },
  {
   "cell_type": "code",
   "execution_count": 27,
   "metadata": {},
   "outputs": [
    {
     "data": {
      "text/plain": [
       "26.259999999999998"
      ]
     },
     "execution_count": 27,
     "metadata": {},
     "output_type": "execute_result"
    }
   ],
   "source": [
    "l1 + l2_2"
   ]
  },
  {
   "cell_type": "code",
   "execution_count": null,
   "metadata": {
    "collapsed": true
   },
   "outputs": [],
   "source": []
  }
 ],
 "metadata": {
  "kernelspec": {
   "display_name": "Python 3",
   "language": "python",
   "name": "python3"
  },
  "language_info": {
   "codemirror_mode": {
    "name": "ipython",
    "version": 3
   },
   "file_extension": ".py",
   "mimetype": "text/x-python",
   "name": "python",
   "nbconvert_exporter": "python",
   "pygments_lexer": "ipython3",
   "version": "3.6.3"
  }
 },
 "nbformat": 4,
 "nbformat_minor": 2
}
