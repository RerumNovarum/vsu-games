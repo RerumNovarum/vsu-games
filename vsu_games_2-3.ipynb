{
 "cells": [
  {
   "cell_type": "markdown",
   "metadata": {},
   "source": [
    "## Problem 2\n",
    "\n",
    "<img src=\"2.jpg\" width=\"50%\" />"
   ]
  },
  {
   "cell_type": "code",
   "execution_count": 1,
   "metadata": {
    "collapsed": true
   },
   "outputs": [],
   "source": [
    "import numpy as np\n",
    "import matplotlib.pyplot as plt\n",
    "\n",
    "%matplotlib inline\n",
    "\n",
    "def V(n,\n",
    "      attendance=np.array([4000, 4500, 5000, 5500, 6000]).reshape((-1,1)) + 1,\n",
    "      prob=np.array([.1, .3, .3, .2, .1]).reshape((-1,1)),\n",
    "      conversion_factor=.40,\n",
    "      unit_cost=.30,\n",
    "      unit_profit=.60,\n",
    "      const_cost=200,\n",
    "      ad_profit=300\n",
    "     ):\n",
    "    buyers = attendance * conversion_factor\n",
    "    V = np.minimum(prob.T.dot(buyers), [n])* unit_profit + ad_profit - const_cost - n*unit_cost\n",
    "    return np.asscalar(V)"
   ]
  },
  {
   "cell_type": "code",
   "execution_count": 2,
   "metadata": {},
   "outputs": [
    {
     "data": {
      "text/plain": [
       "<matplotlib.collections.PathCollection at 0x7fc998b052e8>"
      ]
     },
     "execution_count": 2,
     "metadata": {},
     "output_type": "execute_result"
    },
    {
     "data": {
      "image/png": "[encoded data removed]",
      "text/plain": [
       "<matplotlib.figure.Figure at 0x7fc9c96b0dd8>"
      ]
     },
     "metadata": {},
     "output_type": "display_data"
    }
   ],
   "source": [
    "NN = list(range(1500, 2500, 20))\n",
    "plt.scatter(NN, [V(n) for n in NN], )"
   ]
  },
  {
   "cell_type": "code",
   "execution_count": 3,
   "metadata": {
    "collapsed": true
   },
   "outputs": [],
   "source": [
    "import scipy as sp, scipy.optimize as opt"
   ]
  },
  {
   "cell_type": "code",
   "execution_count": 4,
   "metadata": {},
   "outputs": [
    {
     "data": {
      "text/plain": [
       "     fun: -694.1199961809798\n",
       " message: 'Solution found.'\n",
       "    nfev: 23\n",
       "  status: 0\n",
       " success: True\n",
       "       x: 1980.3999872699326"
      ]
     },
     "execution_count": 4,
     "metadata": {},
     "output_type": "execute_result"
    }
   ],
   "source": [
    "extr = opt.minimize_scalar(lambda n: -V(n), bounds=(1500, 2500), method='bounded')\n",
    "extr"
   ]
  },
  {
   "cell_type": "code",
   "execution_count": 5,
   "metadata": {},
   "outputs": [
    {
     "data": {
      "text/plain": [
       "694.0"
      ]
     },
     "execution_count": 5,
     "metadata": {},
     "output_type": "execute_result"
    }
   ],
   "source": [
    "V(1980)"
   ]
  },
  {
   "cell_type": "markdown",
   "metadata": {},
   "source": [
    "**Следует заказать $1980$ программ**"
   ]
  },
  {
   "cell_type": "code",
   "execution_count": 6,
   "metadata": {},
   "outputs": [
    {
     "data": {
      "text/plain": [
       "     fun: -1749.9999958919673\n",
       "    nfev: 26\n",
       "     nit: 25\n",
       " success: True\n",
       "       x: 5499.9999863065577"
      ]
     },
     "execution_count": 6,
     "metadata": {},
     "output_type": "execute_result"
    }
   ],
   "source": [
    "p2V = lambda n: -V(n, attendance=np.array([5500]), prob=np.array([1.]), conversion_factor=1.) \n",
    "extr2 = opt.minimize_scalar(p2V)\n",
    "extr2"
   ]
  },
  {
   "cell_type": "code",
   "execution_count": 7,
   "metadata": {},
   "outputs": [
    {
     "data": {
      "text/plain": [
       "[<matplotlib.lines.Line2D at 0x7fc99343d0f0>]"
      ]
     },
     "execution_count": 7,
     "metadata": {},
     "output_type": "execute_result"
    },
    {
     "data": {
      "image/png": "[encoded data removed]",
      "text/plain": [
       "<matplotlib.figure.Figure at 0x7fc993476b70>"
      ]
     },
     "metadata": {},
     "output_type": "display_data"
    }
   ],
   "source": [
    "NN = list(range(4000, 7000, 50))\n",
    "plt.plot(NN, -np.array([p2V(n) for n in NN]), )"
   ]
  },
  {
   "cell_type": "markdown",
   "metadata": {},
   "source": [
    "**В условиях п. 2 следует заказать столько программ, сколько ожидается клиентов**"
   ]
  },
  {
   "cell_type": "markdown",
   "metadata": {},
   "source": [
    "# Problem 3\n",
    "\n",
    "<img src=\"3.jpg\" width=\"50%\" />\n",
    "Из условия нельзя уверенно судить: определяется ли спрос в первые два года раз и навсегда,\n",
    "или же спрос меняется каждый год (и эти изменения моделируются марковским процессом).\n",
    "\n",
    "Для первого случая вручную нарисуем дерево, для второго --- посчитаем оценки на ЭВМ.\n",
    "\n",
    "**NB**: в любом случае,\n",
    "в поставленных условиях в хоть сколь-нибудь длительной перспективе\n",
    "всегда выгоднее вклад под проценты,\n",
    "так как он обеспечивает экспоненциальный рост,\n",
    "а во всех остальных случаях темпы роста ограничены.\n"
   ]
  },
  {
   "cell_type": "markdown",
   "metadata": {},
   "source": [
    "### Первый случай\n",
    "\n",
    "<img src=\"3_tree.jpg\" />\n",
    "\n",
    "### Второй случай"
   ]
  },
  {
   "cell_type": "code",
   "execution_count": 8,
   "metadata": {},
   "outputs": [
    {
     "name": "stdout",
     "output_type": "stream",
     "text": [
      "year=0\n",
      "venture=1\n",
      "server=1\n",
      "balance=-350000.0\n",
      "gain=0\n",
      "avg_gain=835917.9912\n",
      "avg_balance=592716.1391999999\n",
      "\n",
      "year=0\n",
      "venture=1\n",
      "server=0\n",
      "balance=-200000.0\n",
      "gain=0\n",
      "avg_gain=835917.9912\n",
      "avg_balance=1042716.1392000001\n",
      "\n"
     ]
    }
   ],
   "source": [
    "def venture_net_gain(venture=1, server=1, high_demand=1):\n",
    "    income = 5e5 if high_demand else 3e5\n",
    "    income += 1\n",
    "    if server:\n",
    "        return income - (1.4e5+1) - (2e4+1)\n",
    "    return income*.7 - (1.4e5+1)\n",
    "\n",
    "\n",
    "class State:\n",
    "    \n",
    "    def __init__(self, balance=0, gain=0, year=0, high_demand=0, server=1, venture=1):\n",
    "        self.balance = balance\n",
    "        self.high_demand = high_demand\n",
    "        self.server = server\n",
    "        self.venture = venture\n",
    "        self.year = year\n",
    "        self.gain = gain\n",
    "        self.branches = []\n",
    "        self.avg_balance = 0\n",
    "        self.avg_gain = 0\n",
    "        \n",
    "    def gen_next_steps(self):\n",
    "        if self.venture:\n",
    "            s1 = State(high_demand=1, venture=1, server=self.server, year=self.year+1)\n",
    "            s2 = State(high_demand=0, venture=1, server=self.server, year=self.year+1)\n",
    "            s1.gain = venture_net_gain(s1.server, s1.high_demand)\n",
    "            s2.gain = venture_net_gain(s2.server, s2.high_demand)\n",
    "            s1.balance = self.balance + s1.gain\n",
    "            s2.balance = self.balance + s2.gain\n",
    "            if self.high_demand:\n",
    "                return [(.8, s1), (.2, s2)]\n",
    "            return [(.4, s1), (.6, s2)]\n",
    "        return State(balance=self.balance*1.3, year=self.year+1)\n",
    "    \n",
    "    def simulate(self, until=3):\n",
    "        if self.year >= until:\n",
    "            return\n",
    "        if not self.branches:\n",
    "            self.branches = self.gen_next_steps()\n",
    "        self.avg_balance, self.avg_gain = 0, 0\n",
    "        for p, b in self.branches:\n",
    "            b.simulate(until=until)\n",
    "            self.avg_gain += p*(b.gain + b.avg_gain)\n",
    "            self.avg_balance += p*(b.balance + b.avg_balance)\n",
    "        return self\n",
    "    \n",
    "    def __str__(self):\n",
    "        return ('\\n'.join([\n",
    "            k + '=' + str(getattr(self, k))\n",
    "            for k in ['year', 'venture', 'server', 'balance', 'gain', 'avg_gain', 'avg_balance']\n",
    "        ]))\n",
    "            \n",
    "G = State()\n",
    "G.branches.append([.5, State(venture=1, server=1, balance=-2e5-1.5e5)])\n",
    "G.branches.append([.5, State(venture=1, server=0, balance=-2e5)])\n",
    "G.simulate(until=3)\n",
    "\n",
    "for p,b in G.branches:\n",
    "    print(b)\n",
    "    print()"
   ]
  },
  {
   "cell_type": "code",
   "execution_count": 9,
   "metadata": {
    "collapsed": true
   },
   "outputs": [],
   "source": [
    "import collections\n",
    "\n",
    "def print_flat_G(G):\n",
    "    q = collections.deque([G])\n",
    "    while q:\n",
    "        G = q.popleft()\n",
    "        for p, b in G.branches:\n",
    "            q.append(b)\n",
    "        print(G)\n",
    "        print()\n",
    "        \n",
    "# print_flat_G(G)        "
   ]
  },
  {
   "cell_type": "markdown",
   "metadata": {},
   "source": [
    "\n",
    "\n",
    "\n",
    "Статистики для первого случая:"
   ]
  },
  {
   "cell_type": "code",
   "execution_count": 10,
   "metadata": {},
   "outputs": [
    {
     "data": {
      "text/plain": [
       "530000.0"
      ]
     },
     "execution_count": 10,
     "metadata": {},
     "output_type": "execute_result"
    }
   ],
   "source": [
    ".8*3.4e5*2 - .2*7e4"
   ]
  },
  {
   "cell_type": "code",
   "execution_count": 11,
   "metadata": {},
   "outputs": [
    {
     "data": {
      "text/plain": [
       "230000.0"
      ]
     },
     "execution_count": 11,
     "metadata": {},
     "output_type": "execute_result"
    }
   ],
   "source": [
    "3.4e5*2*.4 - .6*7e4"
   ]
  },
  {
   "cell_type": "code",
   "execution_count": 12,
   "metadata": {},
   "outputs": [
    {
     "data": {
      "text/plain": [
       "586000.0"
      ]
     },
     "execution_count": 12,
     "metadata": {},
     "output_type": "execute_result"
    }
   ],
   "source": [
    "(3.4e5 + 5.3e5)*.6 + (-7e4 + 2.3e5)*.4"
   ]
  },
  {
   "cell_type": "code",
   "execution_count": 13,
   "metadata": {},
   "outputs": [
    {
     "data": {
      "text/plain": [
       "192400.0"
      ]
     },
     "execution_count": 13,
     "metadata": {},
     "output_type": "execute_result"
    }
   ],
   "source": [
    ".6*(3.4e5*.8 - 7e4*.2) + .4*(.4*3.4e5 -.6*7e4)"
   ]
  },
  {
   "cell_type": "code",
   "execution_count": 14,
   "metadata": {},
   "outputs": [
    {
     "data": {
      "text/plain": [
       "473200.0"
      ]
     },
     "execution_count": 14,
     "metadata": {},
     "output_type": "execute_result"
    }
   ],
   "source": [
    "(\n",
    "    .6 * (\n",
    "        2.1e5 +\n",
    "        .8*2.1e5*2 +\n",
    "        .2*7e4*2\n",
    "    ) +\n",
    "    .4 * (\n",
    "        7e4 +\n",
    "        .4*2.1e5*2 +\n",
    "        .6*7e4*2\n",
    "    )\n",
    ")"
   ]
  },
  {
   "cell_type": "code",
   "execution_count": 15,
   "metadata": {},
   "outputs": [
    {
     "data": {
      "text/plain": [
       "159600.0"
      ]
     },
     "execution_count": 15,
     "metadata": {},
     "output_type": "execute_result"
    }
   ],
   "source": [
    "(\n",
    "    .6 * (\n",
    "        .8*2.1e5 +\n",
    "        .2*7e4\n",
    "    ) +\n",
    "    .4 * (\n",
    "        .4*2.1e5 +\n",
    "        .6*7e4\n",
    "    )\n",
    ")"
   ]
  },
  {
   "cell_type": "code",
   "execution_count": 16,
   "metadata": {},
   "outputs": [
    {
     "data": {
      "text/plain": [
       "338000.00000000006"
      ]
     },
     "execution_count": 16,
     "metadata": {},
     "output_type": "execute_result"
    }
   ],
   "source": [
    "1.3**2 * 2e5"
   ]
  },
  {
   "cell_type": "code",
   "execution_count": 17,
   "metadata": {},
   "outputs": [
    {
     "data": {
      "text/plain": [
       "138000.00000000003"
      ]
     },
     "execution_count": 17,
     "metadata": {},
     "output_type": "execute_result"
    }
   ],
   "source": [
    "(1.3**2 - 1) * 2e5"
   ]
  },
  {
   "cell_type": "code",
   "execution_count": null,
   "metadata": {
    "collapsed": true
   },
   "outputs": [],
   "source": []
  }
 ],
 "metadata": {
  "kernelspec": {
   "display_name": "Python 3",
   "language": "python",
   "name": "python3"
  },
  "language_info": {
   "codemirror_mode": {
    "name": "ipython",
    "version": 3
   },
   "file_extension": ".py",
   "mimetype": "text/x-python",
   "name": "python",
   "nbconvert_exporter": "python",
   "pygments_lexer": "ipython3",
   "version": "3.6.3"
  }
 },
 "nbformat": 4,
 "nbformat_minor": 2
}
