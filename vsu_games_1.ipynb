{
 "cells": [
  {
   "cell_type": "markdown",
   "metadata": {},
   "source": [
    "#   Антагонистическая игра 5x5"
   ]
  },
  {
   "cell_type": "markdown",
   "metadata": {},
   "source": [
    "<img width=\"60%\" src=\"gt13.1.jpg\" alt=\"problem 1 statement\" />"
   ]
  },
  {
   "cell_type": "markdown",
   "metadata": {},
   "source": [
    "`Таблица 13.1` определяет Payoff-матрицу $P$ первого игрока.\n",
    "Задача состоит в выборе оптимального распределения\n",
    "$2^{\\left\\{D_1,\\ldots,D_n\\right\\}}\\to [0,1]$ (изоморфно вектору $X\\in[0,1]^n$),\n",
    "$n=5$,\n",
    "в множестве товаров для первого игрока,\n",
    "при неизвестном распределении $Y\\in[0,1]^5$, выбранном вторым игроком.\n",
    "\n",
    "Обозначим через $V(X, Y)$\n",
    "выигрыш первого игрока,\n",
    "при выборе им распределения $X$\n",
    "и вторым игроком распределения $Y$.\n",
    "Другими словами:\n",
    "$$V(X, Y) = X^\\mathrm{T}PY.$$"
   ]
  },
  {
   "cell_type": "markdown",
   "metadata": {},
   "source": [
    "Тогда критерий оптимальности имеет вид:\n",
    "$$\\min_Y X^\\mathrm{T}PY \\longrightarrow_X \\max.$$\n",
    "\n",
    "Это выражение можно упростить,\n",
    "с учётом $y_i\\in[0,1]$ и $\\sum_i y_k = 1$.\n",
    "\n",
    "При любом фиксированном $X$ имеют место равенства\n",
    "$$\\min_Y X^\\mathrm{T}PY = \\min_Y\\left[\\sum_k y_k X^{\\mathrm{T}}P e_k\\right] =\n",
    "\\min_i X^{\\mathrm{T}}P e_i.$$\n",
    "\n",
    "Другими словами, если $V_\\star$ --- оптимальное решение, то\n",
    "$$X^{\\mathrm{T}}P_{[:,i]} \\geq V_\\star,\\ i=\\overline{1,n},$$\n",
    "где $P_{[:,i]} = P e_i$ --- $i$-й столбец матрицы $P$."
   ]
  },
  {
   "cell_type": "markdown",
   "metadata": {},
   "source": [
    "Теперь задачу можно переписать в виде:\n",
    "$$V\\to\\max,$$\n",
    "$$P^{\\mathrm{T}} X \\geq V,\\ \\mathbf{1}^{\\mathrm{T}}X = 1,\\ X\\geq 0.$$\n",
    "Неравенство $P^{\\mathrm{T}} X \\geq V$ понимается поэлементно,\n",
    "а $\\mathbf{1}$ означает вектор, составленный из единиц."
   ]
  },
  {
   "cell_type": "markdown",
   "metadata": {
    "collapsed": true
   },
   "source": [
    "Переместим $V$ в левую часть уравнения,\n",
    "введём slack переменные $S = \\begin{pmatrix}s_1\\\\ \\vdots \\\\ s_n\\end{pmatrix}\\geq 0$\n",
    "и получим следующую линейную программу:\n",
    "$$-V\\to\\inf,$$\n",
    "$$-V\\mathbf{1} - S - P^{\\mathrm{T}}X = 0,$$\n",
    "$$\\mathbf{1}^\\mathrm{T}X = 1.$$"
   ]
  },
  {
   "cell_type": "markdown",
   "metadata": {},
   "source": [
    "Эквивалентно:\n",
    "$$\n",
    "\\left\\{\n",
    "\\begin{aligned}\n",
    "& {-}V\\to\\inf,\\\\\n",
    "&\n",
    "\\left(\n",
    "\\begin{array}{c|c|c}\n",
    "\\begin{matrix}\n",
    "-1 \\\\ \\vdots \\\\ -1\n",
    "\\end{matrix}\n",
    "&\n",
    "\\begin{matrix}\n",
    "-1 & & 0 \\\\\n",
    "   & \\ddots & \\\\\n",
    "0  & & -1\n",
    "\\end{matrix} &\n",
    "P^{\\mathrm{T}} \\\\ \\hline\n",
    "\\begin{matrix}\n",
    "0\n",
    "\\end{matrix}\n",
    "&\n",
    "\\begin{matrix}\n",
    "0 & \\cdots & 0\n",
    "\\end{matrix}\n",
    "&\n",
    "\\begin{matrix}\n",
    "1 & \\cdots & 1\n",
    "\\end{matrix}\n",
    "\\end{array}\n",
    "\\right)\n",
    "\\begin{pmatrix}\n",
    "V\\\\\n",
    "s_1\\\\\n",
    "\\vdots\\\\\n",
    "s_n\\\\\n",
    "x_1\\\\\n",
    "\\vdots\\\\\n",
    "x_n\n",
    "\\end{pmatrix}\n",
    "=\\begin{pmatrix}\n",
    "0\\\\\n",
    "\\vdots\\\\\n",
    "0\\\\ \\hline\n",
    "1\n",
    "\\end{pmatrix}\n",
    ",\\\\\n",
    "& V,\\ S,\\ X \\geq 0.\n",
    "\\end{aligned}\n",
    "\\right.$$\n",
    "\n",
    "Очевидно, второму предприятию соответствует такая же программа\n",
    "с Payoff-матрицей вида $$1- P^\\mathrm{T}$$"
   ]
  },
  {
   "cell_type": "code",
   "execution_count": 1,
   "metadata": {
    "ExecuteTime": {
     "end_time": "2017-12-16T10:23:24.040918Z",
     "start_time": "2017-12-16T10:23:24.013964Z"
    },
    "collapsed": true
   },
   "outputs": [],
   "source": [
    "P = [\n",
    "    .5 .5 .4 .5 .21;\n",
    "    .5 .4 .7 .11 .6;\n",
    "    .21 .3 .4 .1 .7;\n",
    "    .3 .6 .7 .3 .2;\n",
    "    .4 .4 .3 .01 .2\n",
    "];"
   ]
  },
  {
   "cell_type": "code",
   "execution_count": 2,
   "metadata": {
    "ExecuteTime": {
     "end_time": "2017-12-16T10:23:24.087453Z",
     "start_time": "2017-12-16T10:23:24.042136Z"
    }
   },
   "outputs": [
    {
     "name": "stdout",
     "output_type": "stream",
     "text": [
      "X =\n",
      "\n",
      "   0.67416\n",
      "   0.00000\n",
      "   0.32584\n",
      "   0.00000\n",
      "   0.00000\n",
      "\n",
      "Y =\n",
      "\n",
      "   0.00000\n",
      "   0.00000\n",
      "   0.00000\n",
      "   0.55056\n",
      "   0.44944\n",
      "\n",
      "V1 =  0.36966\n",
      "V_wrt_player_2 =  0.63034\n",
      "TOTAL_VOLUME =  1\n"
     ]
    }
   ],
   "source": [
    "function [X, V] = solve_antagonistic (P)\n",
    "    [m, n] = size(P);\n",
    "    A = [-ones(n,1), -eye(n), P'; zeros(1,n+1), ones(1,m)];\n",
    "    b = [zeros(n,1);1];\n",
    "    c = [1; zeros(size(A,2)-1,1)];\n",
    "    X = glpk(-c,A,b);\n",
    "    V = c'*X;\n",
    "    X = X(n+2:end);\n",
    "endfunction\n",
    "\n",
    "\n",
    "[X, V1] = solve_antagonistic(P);\n",
    "[Y, V_wrt_player_2] = solve_antagonistic(1-P');\n",
    "X, Y, V1, V_wrt_player_2\n",
    "TOTAL_VOLUME = V1+V_wrt_player_2"
   ]
  },
  {
   "cell_type": "markdown",
   "metadata": {},
   "source": [
    "**Первому предприятию** следует выбрать **товары типов** $1$ и $3$\n",
    "в соотношении $67.416\\%$ к $32.584\\%$\n",
    "или, приблизительно, $2:1$.\n",
    "\n",
    "**Второму предприятию** следует выбрать **товары типов** $4$ и $5$\n",
    "в соотношении $55\\%$ к $45\\%$."
   ]
  },
  {
   "cell_type": "code",
   "execution_count": 3,
   "metadata": {},
   "outputs": [
    {
     "name": "stdout",
     "output_type": "stream",
     "text": [
      "ans =  0.36966\n"
     ]
    }
   ],
   "source": [
    "X'*P*Y"
   ]
  },
  {
   "cell_type": "code",
   "execution_count": 4,
   "metadata": {},
   "outputs": [
    {
     "name": "stdout",
     "output_type": "stream",
     "text": [
      "ans =  0.63034\n"
     ]
    }
   ],
   "source": [
    "Y'*(1-P')*X"
   ]
  }
 ],
 "metadata": {
  "kernelspec": {
   "display_name": "Octave",
   "language": "octave",
   "name": "octave"
  },
  "language_info": {
   "file_extension": ".m",
   "help_links": [
    {
     "text": "GNU Octave",
     "url": "https://www.gnu.org/software/octave/support.html"
    },
    {
     "text": "Octave Kernel",
     "url": "https://github.com/Calysto/octave_kernel"
    },
    {
     "text": "MetaKernel Magics",
     "url": "https://github.com/calysto/metakernel/blob/master/metakernel/magics/README.md"
    }
   ],
   "mimetype": "text/x-octave",
   "name": "octave",
   "version": "4.2.1"
  }
 },
 "nbformat": 4,
 "nbformat_minor": 2
}
