{
 "cells": [
  {
   "cell_type": "markdown",
   "metadata": {},
   "source": [
    "#   Антагонистическая игра 5x5"
   ]
  },
  {
   "cell_type": "markdown",
   "metadata": {},
   "source": [
    "<img width=\"60%\" src=\"gt13.1.jpg\" alt=\"problem 1 statement\" />"
   ]
  },
  {
   "cell_type": "markdown",
   "metadata": {},
   "source": [
    "`Таблица 13.1` определяет Payoff-матрицу $P$ первого игрока.\n",
    "Задача состоит в выборе оптимального распределения\n",
    "$2^{\\left\\{D_1,\\ldots,D_5\\right\\}}\\to [0,1]$ (изоморфно вектору $X\\in[0,1]^5$)\n",
    "в множестве товаров для первого игрока,\n",
    "при неизвестном распределении $Y\\in[0,1]^5$, выбранном вторым игроком.\n",
    "\n",
    "Обозначим через $V(X, Y)$\n",
    "выигрыш первого игрока,\n",
    "при выборе им распределения $X$\n",
    "и вторым игроком распределения $Y$.\n",
    "Другими словами:\n",
    "$$V(X, Y) = X^\\mathrm{T}PY.$$"
   ]
  },
  {
   "cell_type": "markdown",
   "metadata": {},
   "source": [
    "Тогда критерий оптимальности имеет вид:\n",
    "$$\\min_Y X^\\mathrm{T}PY \\to \\max.$$\n",
    "\n",
    "Это выражение можно упростить,\n",
    "с учётом $y_i\\in[0,1]$ и $\\sum_i y_k = 1$.\n",
    "\n",
    "При любом фиксированном $X$ имеют место равенства\n",
    "$$\\min_Y X^\\mathrm{T}PY = \\min_Y\\left[\\sum_k y_k X^{\\mathrm{T}} e_k\\right] =\n",
    "\\min_i X^{\\mathrm{T}}P e_i.$$"
   ]
  },
  {
   "cell_type": "markdown",
   "metadata": {},
   "source": [
    "$$P^{\\mathrm{T}} X \\geq V,\\ \\mathbf{1}^{\\mathrm{T}}X = 1,\\ X\\geq 0.$$\n",
    "\n",
    "Переместим $V$ в левую часть уравнения,\n",
    "введём slack переменные\n",
    "и получим следующую линейную программу:\n"
   ]
  },
  {
   "cell_type": "code",
   "execution_count": null,
   "metadata": {
    "collapsed": true
   },
   "outputs": [],
   "source": []
  },
  {
   "cell_type": "markdown",
   "metadata": {},
   "source": [
    "\n",
    "$$\n",
    "\\left\\{\n",
    "\\begin{aligned}\n",
    "& {-}V\\to\\inf,\\\\\n",
    "&\n",
    "\\left(\n",
    "\\begin{array}{c|c|c}\n",
    "\\begin{matrix}\n",
    "-1 \\\\ \\vdots \\\\ -1\n",
    "\\end{matrix}\n",
    "&\n",
    "\\begin{matrix}\n",
    "-1 & & 0 \\\\\n",
    "   & \\ddots & \\\\\n",
    "0  & & -1\n",
    "\\end{matrix} &\n",
    "P^{\\mathrm{T}} \\\\ \\hline\n",
    "\\begin{matrix}\n",
    "0\n",
    "\\end{matrix}\n",
    "&\n",
    "\\begin{matrix}\n",
    "0 & \\cdots & 0\n",
    "\\end{matrix}\n",
    "&\n",
    "\\begin{matrix}\n",
    "1 & \\cdots & 1\n",
    "\\end{matrix}\n",
    "\\end{array}\n",
    "\\right)\n",
    "\\begin{pmatrix}\n",
    "V\\\\\n",
    "s_1\\\\\n",
    "\\vdots\\\\\n",
    "s_n\\\\\n",
    "x_1\\\\\n",
    "\\vdots\\\\\n",
    "x_n\n",
    "\\end{pmatrix}\n",
    "=\\begin{pmatrix}\n",
    "0\\\\\n",
    "\\vdots\\\\\n",
    "0\\\\ \\hline\n",
    "1\n",
    "\\end{pmatrix}\n",
    ",\\\\\n",
    "& V, s, X \\geq 0.\n",
    "\\end{aligned}\n",
    "\\right.$$"
   ]
  },
  {
   "cell_type": "code",
   "execution_count": 1,
   "metadata": {},
   "outputs": [],
   "source": [
    "P = [\n",
    "    .5 .5 .4 .5 .21;\n",
    "    .5 .4 .7 .11 .6;\n",
    "    .21 .3 .4 .1 .7;\n",
    "    .3 .6 .7 .3 .2;\n",
    "    .4 .4 .3 .01 .2\n",
    "];"
   ]
  },
  {
   "cell_type": "code",
   "execution_count": 3,
   "metadata": {},
   "outputs": [
    {
     "name": "stdout",
     "output_type": "stream",
     "text": [
      "X =\n",
      "\n",
      "   0.67416\n",
      "   0.00000\n",
      "   0.32584\n",
      "   0.00000\n",
      "   0.00000\n",
      "\n",
      "V =  0.36966\n"
     ]
    }
   ],
   "source": [
    "function [X, V] = solve_antagonistic (P)\n",
    "    [m, n] = size(P);\n",
    "    A = [-ones(n,1), -eye(n), P'; zeros(1,n+1), ones(1,m)];\n",
    "    b = [zeros(n,1);1];\n",
    "    c = [1; zeros(size(A,2)-1,1)];\n",
    "    X = glpk(-c,A,b);\n",
    "    V = c'*X;\n",
    "    X = X(n+2:end);\n",
    "endfunction\n",
    "\n",
    "\n",
    "[X, V] = solve_antagonistic(P)"
   ]
  },
  {
   "cell_type": "markdown",
   "metadata": {},
   "source": [
    "**Следует выбрать товары типов $1$ и $3$\n",
    "в соотношении $0.67416:0.32584$\n",
    "или, приблизительно $2:1$**."
   ]
  },
  {
   "cell_type": "code",
   "execution_count": null,
   "metadata": {
    "collapsed": true
   },
   "outputs": [],
   "source": []
  }
 ],
 "metadata": {
  "kernelspec": {
   "display_name": "Octave",
   "language": "octave",
   "name": "octave"
  },
  "language_info": {
   "file_extension": ".m",
   "help_links": [
    {
     "text": "GNU Octave",
     "url": "https://www.gnu.org/software/octave/support.html"
    },
    {
     "text": "Octave Kernel",
     "url": "https://github.com/Calysto/octave_kernel"
    },
    {
     "text": "MetaKernel Magics",
     "url": "https://github.com/calysto/metakernel/blob/master/metakernel/magics/README.md"
    }
   ],
   "mimetype": "text/x-octave",
   "name": "octave",
   "version": "4.2.1"
  }
 },
 "nbformat": 4,
 "nbformat_minor": 2
}
