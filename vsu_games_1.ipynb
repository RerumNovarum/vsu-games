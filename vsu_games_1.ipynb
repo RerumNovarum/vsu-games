{
 "cells": [
  {
   "cell_type": "markdown",
   "metadata": {},
   "source": [
    "## Антагонистическая игра 5x5\n",
    "\n",
    "Проблему можно формализовать как задачу оптимизации:\n",
    "$$V\\to\\max,$$\n",
    "при ограничениях\n",
    "$$P^{\\mathrm{T}} X \\geq V,\\ 1^{\\mathrm{T}}X = 1,\\ X\\geq 0.$$\n",
    "\n",
    "Переместим $V$ в левую часть уравнения,\n",
    "введём переменные дополняющей нежёсткости\n",
    "и получим следующую линейную программу:\n",
    "\n",
    "$$\n",
    "\\left\\{\n",
    "\\begin{aligned}\n",
    "& {-}V\\to\\inf,\\\\\n",
    "&\n",
    "\\left(\n",
    "\\begin{array}{c|c|c}\n",
    "\\begin{matrix}\n",
    "-1 \\\\ \\vdots \\\\ -1\n",
    "\\end{matrix}\n",
    "&\n",
    "\\begin{matrix}\n",
    "-1 & & 0 \\\\\n",
    "   & \\ddots & \\\\\n",
    "0  & & -1\n",
    "\\end{matrix} &\n",
    "P^{\\mathrm{T}} \\\\ \\hline\n",
    "\\begin{matrix}\n",
    "0\n",
    "\\end{matrix}\n",
    "&\n",
    "\\begin{matrix}\n",
    "0 & \\cdots & 0\n",
    "\\end{matrix}\n",
    "&\n",
    "\\begin{matrix}\n",
    "1 & \\cdots & 1\n",
    "\\end{matrix}\n",
    "\\end{array}\n",
    "\\right)\n",
    "\\begin{pmatrix}\n",
    "V\\\\\n",
    "s_1\\\\\n",
    "\\vdots\\\\\n",
    "s_n\\\\\n",
    "x_1\\\\\n",
    "\\vdots\\\\\n",
    "x_n\n",
    "\\end{pmatrix}\n",
    "=\\begin{pmatrix}\n",
    "0\\\\\n",
    "\\vdots\\\\\n",
    "0\\\\ \\hline\n",
    "1\n",
    "\\end{pmatrix}\n",
    ",\\\\\n",
    "& V, s, X \\geq 0.\n",
    "\\end{aligned}\n",
    "\\right.$$"
   ]
  },
  {
   "cell_type": "markdown",
   "metadata": {},
   "source": [
    "<img width=\"40%\" src=\"1.jpg\" alt=\"problem 1 statement\" />"
   ]
  },
  {
   "cell_type": "code",
   "execution_count": 1,
   "metadata": {},
   "outputs": [
    {
     "name": "stdout",
     "output_type": "stream",
     "text": [
      "     1\t.5 .5 .4 .5 .201\n",
      "     2\t.5 .4 .7 .101 .6\n",
      "     3\t.201 .3 .4 .1 .7\n",
      "     4\t.3 .6 .7 .3 .2\n",
      "     5\t.4 .4 .3 .01 .2\n"
     ]
    }
   ],
   "source": [
    "! cat -n P1.txt"
   ]
  },
  {
   "cell_type": "code",
   "execution_count": 2,
   "metadata": {},
   "outputs": [
    {
     "name": "stdout",
     "output_type": "stream",
     "text": [
      "ans =\n",
      "\n",
      "   0.66741\n",
      "   0.00000\n",
      "   0.33259\n",
      "   0.00000\n",
      "   0.00000\n",
      "\n"
     ]
    }
   ],
   "source": [
    "function [X, V] = solve_antagonistic (P)\n",
    "    [m, n] = size(P);\n",
    "    A = [-ones(n,1), -eye(n), P'; zeros(1,n+1), ones(1,m)];\n",
    "    b = [zeros(n,1);1];\n",
    "    c = [1; zeros(size(A,2)-1,1)];\n",
    "    X = glpk(-c,A,b);\n",
    "    V = c'*X;\n",
    "    X = X(n+2:end);\n",
    "endfunction\n",
    "\n",
    "function [X,V] = solve_1 ()\n",
    "    P = dlmread('P1.txt');\n",
    "    [X, V] = solve_antagonistic(P);\n",
    "endfunction\n",
    "\n",
    "solve_1"
   ]
  },
  {
   "cell_type": "markdown",
   "metadata": {},
   "source": [
    "**Следует выбрать товары типов $1$ и $3$ в соотношении $2:1$**"
   ]
  }
 ],
 "metadata": {
  "kernelspec": {
   "display_name": "Octave",
   "language": "octave",
   "name": "octave"
  },
  "language_info": {
   "file_extension": ".m",
   "help_links": [
    {
     "text": "GNU Octave",
     "url": "https://www.gnu.org/software/octave/support.html"
    },
    {
     "text": "Octave Kernel",
     "url": "https://github.com/Calysto/octave_kernel"
    },
    {
     "text": "MetaKernel Magics",
     "url": "https://github.com/calysto/metakernel/blob/master/metakernel/magics/README.md"
    }
   ],
   "mimetype": "text/x-octave",
   "name": "octave",
   "version": "4.2.1"
  }
 },
 "nbformat": 4,
 "nbformat_minor": 2
}
