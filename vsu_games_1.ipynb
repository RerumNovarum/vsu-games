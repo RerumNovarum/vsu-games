{
 "cells": [
  {
   "cell_type": "markdown",
   "metadata": {},
   "source": [
    "#   Антагонистическая игра 5x5"
   ]
  },
  {
   "cell_type": "markdown",
   "metadata": {},
   "source": [
    "<img width=\"50%\" src=\"gt13.1.jpg\" alt=\"problem 1 statement\" />"
   ]
  },
  {
   "cell_type": "markdown",
   "metadata": {},
   "source": [
    "Обозначим матрицей $P$ таблицу `13.1`.\n",
    "Задача первого игрока состоит в нахождении:\n",
    "\\begin{equation}\\label{obj}\n",
    "\\max_x \\min_y x^\\mathrm{T} P y,\n",
    "\\end{equation}\n",
    "а задача второго в\n",
    "\\begin{equation}\\label{player2obj}\n",
    "\\max_y \\min_x y^\\mathrm{T} Q x,\n",
    "\\end{equation}\n",
    "где $$Q = J - P^\\mathrm{T}.$$\n",
    "\n",
    "Цель второго игрока можно переформулировать в традиционном\n",
    "для zero-sum игр виде:\n",
    "\\begin{equation}\\label{player2obj2}\n",
    "\\min_y \\max_x x^\\mathrm{T} P y.\n",
    "\\end{equation}\n",
    "Очевидно задачи \\eqref{player2obj} и \\eqref{player2obj2}\n",
    "имеют одинаковое решение.\n",
    "Однако задача \\eqref{player2obj} лучше соответствует доменной области\n",
    "(это оптимизация минимальной **доли рынка**, которую захватит второй игрок),\n",
    "а вторая задача соответствует антагонистической интерпретации."
   ]
  },
  {
   "cell_type": "markdown",
   "metadata": {},
   "source": [
    "Выражение \\eqref{obj} можно упростить,\n",
    "с учётом того, что $y_i\\in[0,1]$ и $\\sum_i y_k = 1$.\n",
    "\n",
    "При любом фиксированном $X$ имеют место равенства\n",
    "$$\\min_Y X^\\mathrm{T}PY = \\min_Y\\left[\\sum_k y_k X^{\\mathrm{T}}P e_k\\right] =\n",
    "\\min_i X^{\\mathrm{T}}P e_i.$$\n",
    "\n",
    "Другими словами, если $V_\\star$ --- оптимальное решение, то\n",
    "$$X^{\\mathrm{T}}P_{[:,i]} \\geq V_\\star\\ \\text{для всех}\\ i{=}\\overline{1,n},$$\n",
    "где $P_{[:,i]} = P e_i$ --- $i$-й столбец матрицы $P$."
   ]
  },
  {
   "cell_type": "markdown",
   "metadata": {},
   "source": [
    "Теперь задачу можно переписать в виде:\n",
    "$$V\\longrightarrow\\max,$$\n",
    "$$P^{\\mathrm{T}} X \\geq V,\\ \\mathbf{1}^{\\mathrm{T}}X = 1,\\ X\\geq 0.$$\n",
    "Неравенство $P^{\\mathrm{T}} X \\geq V$ понимается поэлементно,\n",
    "а $\\mathbf{1}$ означает вектор, составленный из единиц."
   ]
  },
  {
   "cell_type": "markdown",
   "metadata": {
    "collapsed": true
   },
   "source": [
    "Переместим $V$ в левую часть уравнения,\n",
    "введём slack переменные $S = \\begin{pmatrix}s_1\\\\ \\vdots \\\\ s_n\\end{pmatrix}\\geq 0$\n",
    "и получим следующую линейную программу:\n",
    "$$-V\\to\\inf,$$\n",
    "$$-V\\mathbf{1} - S - P^{\\mathrm{T}}X = 0,$$\n",
    "$$\\mathbf{1}^\\mathrm{T}X = 1.$$"
   ]
  },
  {
   "cell_type": "markdown",
   "metadata": {},
   "source": [
    "Эквивалентно:\n",
    "$$\n",
    "\\left\\{\n",
    "\\begin{aligned}\n",
    "& {-}V\\to\\inf,\\\\\n",
    "&\n",
    "\\left(\n",
    "\\begin{array}{c|c|c}\n",
    "\\begin{matrix}\n",
    "-1 \\\\ \\vdots \\\\ -1\n",
    "\\end{matrix}\n",
    "&\n",
    "\\begin{matrix}\n",
    "-1 & & 0 \\\\\n",
    "   & \\ddots & \\\\\n",
    "0  & & -1\n",
    "\\end{matrix} &\n",
    "P^{\\mathrm{T}} \\\\ \\hline\n",
    "\\begin{matrix}\n",
    "0\n",
    "\\end{matrix}\n",
    "&\n",
    "\\begin{matrix}\n",
    "0 & \\cdots & 0\n",
    "\\end{matrix}\n",
    "&\n",
    "\\begin{matrix}\n",
    "1 & \\cdots & 1\n",
    "\\end{matrix}\n",
    "\\end{array}\n",
    "\\right)\n",
    "\\begin{pmatrix}\n",
    "V\\\\\n",
    "s_1\\\\\n",
    "\\vdots\\\\\n",
    "s_n\\\\\n",
    "x_1\\\\\n",
    "\\vdots\\\\\n",
    "x_n\n",
    "\\end{pmatrix}\n",
    "=\\begin{pmatrix}\n",
    "0\\\\\n",
    "\\vdots\\\\\n",
    "0\\\\ \\hline\n",
    "1\n",
    "\\end{pmatrix}\n",
    ",\\\\\n",
    "& V,\\ S,\\ X \\geq 0.\n",
    "\\end{aligned}\n",
    "\\right.$$"
   ]
  },
  {
   "cell_type": "code",
   "execution_count": 1,
   "metadata": {
    "ExecuteTime": {
     "end_time": "2017-12-16T10:23:24.040918Z",
     "start_time": "2017-12-16T10:23:24.013964Z"
    }
   },
   "outputs": [],
   "source": [
    "P = [\n",
    "    .5 .5 .4 .5 .21;\n",
    "    .5 .4 .7 .11 .6;\n",
    "    .21 .3 .4 .1 .7;\n",
    "    .3 .6 .7 .3 .2;\n",
    "    .4 .4 .3 .01 .2\n",
    "];\n",
    "DEMAND = 1000 + 1;\n",
    "\n",
    "function [X, V] = solve_antagonistic (P)\n",
    "    [m, n] = size(P);\n",
    "    A = [-ones(n,1), -eye(n), P'; zeros(1,n+1), ones(1,m)];\n",
    "    b = [zeros(n,1);1];\n",
    "    c = [1; zeros(size(A,2)-1,1)];\n",
    "    X = glpk(-c,A,b);\n",
    "    V = c'*X;\n",
    "    X = X(n+2:end);\n",
    "endfunction\n",
    "\n",
    "\n",
    "[x, V1] = solve_antagonistic(P);\n",
    "[y, V2] = solve_antagonistic(1-P');"
   ]
  },
  {
   "cell_type": "markdown",
   "metadata": {},
   "source": [
    "Убедимся, что найдена седловая точка ($V_2 = 1 - V_1$):"
   ]
  },
  {
   "cell_type": "code",
   "execution_count": 2,
   "metadata": {
    "ExecuteTime": {
     "end_time": "2017-12-16T10:23:24.087453Z",
     "start_time": "2017-12-16T10:23:24.042136Z"
    }
   },
   "outputs": [
    {
     "name": "stdout",
     "output_type": "stream",
     "text": [
      "ans =  1\n"
     ]
    }
   ],
   "source": [
    "V1 + V2"
   ]
  },
  {
   "cell_type": "markdown",
   "metadata": {},
   "source": [
    "Итак, решение равновесное.\n",
    "Определим, сколько товаров производить первому игроку:"
   ]
  },
  {
   "cell_type": "code",
   "execution_count": 3,
   "metadata": {
    "scrolled": true
   },
   "outputs": [
    {
     "name": "stdout",
     "output_type": "stream",
     "text": [
      "ans =\n",
      "\n",
      "   249.46017     0.00000   120.57242     0.00000     0.00000\n",
      "\n"
     ]
    }
   ],
   "source": [
    "x' * V1 * DEMAND"
   ]
  },
  {
   "cell_type": "markdown",
   "metadata": {},
   "source": [
    "Второму:"
   ]
  },
  {
   "cell_type": "code",
   "execution_count": 4,
   "metadata": {
    "scrolled": true
   },
   "outputs": [
    {
     "name": "stdout",
     "output_type": "stream",
     "text": [
      "ans =\n",
      "\n",
      "     0.00000     0.00000     0.00000   347.38655   283.58086\n",
      "\n"
     ]
    }
   ],
   "source": [
    "y' * V2 * DEMAND"
   ]
  },
  {
   "cell_type": "code",
   "execution_count": 5,
   "metadata": {},
   "outputs": [
    {
     "name": "stdout",
     "output_type": "stream",
     "text": [
      "first =\n",
      "\n",
      "   249     0   121     0     0\n",
      "\n",
      "second =\n",
      "\n",
      "     0     0     0   347   284\n",
      "\n",
      "ans =  1001\n"
     ]
    }
   ],
   "source": [
    "first = round(x' * V1 * DEMAND)\n",
    "second =  round(y' * V2 * DEMAND)\n",
    "sum(first+second)"
   ]
  }
 ],
 "metadata": {
  "kernelspec": {
   "display_name": "Octave",
   "language": "octave",
   "name": "octave"
  },
  "language_info": {
   "file_extension": ".m",
   "help_links": [
    {
     "text": "GNU Octave",
     "url": "https://www.gnu.org/software/octave/support.html"
    },
    {
     "text": "Octave Kernel",
     "url": "https://github.com/Calysto/octave_kernel"
    },
    {
     "text": "MetaKernel Magics",
     "url": "https://github.com/calysto/metakernel/blob/master/metakernel/magics/README.md"
    }
   ],
   "mimetype": "text/x-octave",
   "name": "octave",
   "version": "4.2.1"
  }
 },
 "nbformat": 4,
 "nbformat_minor": 2
}
