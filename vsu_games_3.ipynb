{
 "cells": [
  {
   "cell_type": "code",
   "execution_count": 1,
   "metadata": {
    "collapsed": true
   },
   "outputs": [],
   "source": [
    "import numpy as np\n",
    "import matplotlib.pyplot as plt\n",
    "\n",
    "%matplotlib inline"
   ]
  },
  {
   "cell_type": "markdown",
   "metadata": {},
   "source": [
    "# Problem 3\n",
    "\n",
    "<img src=\"3.jpg\" width=\"50%\" />\n",
    "Из условия нельзя уверенно судить: определяется ли спрос в первые два года раз и навсегда,\n",
    "или же спрос меняется каждый год (и эти изменения моделируются марковским процессом).\n",
    "\n",
    "Для первого случая вручную нарисуем дерево, для второго --- посчитаем оценки на ЭВМ.\n",
    "\n",
    "**NB**: в любом случае,\n",
    "в поставленных условиях в хоть сколь-нибудь длительной перспективе\n",
    "всегда выгоднее вклад под проценты,\n",
    "так как он обеспечивает экспоненциальный рост,\n",
    "а во всех остальных случаях темпы роста ограничены.\n"
   ]
  },
  {
   "cell_type": "markdown",
   "metadata": {},
   "source": [
    "Ежегодные прибыли:"
   ]
  },
  {
   "cell_type": "code",
   "execution_count": 2,
   "metadata": {},
   "outputs": [
    {
     "data": {
      "text/plain": [
       "339000"
      ]
     },
     "execution_count": 2,
     "metadata": {},
     "output_type": "execute_result"
    }
   ],
   "source": [
    "server_highdemand = 501000 - 141000 - 21000\n",
    "server_highdemand"
   ]
  },
  {
   "cell_type": "code",
   "execution_count": 3,
   "metadata": {},
   "outputs": [
    {
     "data": {
      "text/plain": [
       "139000"
      ]
     },
     "execution_count": 3,
     "metadata": {},
     "output_type": "execute_result"
    }
   ],
   "source": [
    "server_lowdemand = 301000 - 141000 - 21000\n",
    "server_lowdemand"
   ]
  },
  {
   "cell_type": "code",
   "execution_count": 4,
   "metadata": {},
   "outputs": [
    {
     "data": {
      "text/plain": [
       "209700.0"
      ]
     },
     "execution_count": 4,
     "metadata": {},
     "output_type": "execute_result"
    }
   ],
   "source": [
    "vps_highdemand = 0.7*501000 - 141000\n",
    "vps_highdemand"
   ]
  },
  {
   "cell_type": "code",
   "execution_count": 5,
   "metadata": {},
   "outputs": [
    {
     "data": {
      "text/plain": [
       "69700.0"
      ]
     },
     "execution_count": 5,
     "metadata": {},
     "output_type": "execute_result"
    }
   ],
   "source": [
    "vps_lowdemand = 0.7*301000 - 141000\n",
    "vps_lowdemand"
   ]
  },
  {
   "cell_type": "markdown",
   "metadata": {},
   "source": [
    "Ожидаемые ежегодные прибыли:"
   ]
  },
  {
   "cell_type": "code",
   "execution_count": 6,
   "metadata": {},
   "outputs": [
    {
     "data": {
      "text/plain": [
       "299000.0"
      ]
     },
     "execution_count": 6,
     "metadata": {},
     "output_type": "execute_result"
    }
   ],
   "source": [
    "(.8*server_highdemand + .2*server_lowdemand)"
   ]
  },
  {
   "cell_type": "code",
   "execution_count": 7,
   "metadata": {},
   "outputs": [
    {
     "data": {
      "text/plain": [
       "219000.0"
      ]
     },
     "execution_count": 7,
     "metadata": {},
     "output_type": "execute_result"
    }
   ],
   "source": [
    "(.4*server_highdemand + .6*server_lowdemand)"
   ]
  },
  {
   "cell_type": "code",
   "execution_count": 8,
   "metadata": {},
   "outputs": [
    {
     "data": {
      "text/plain": [
       "267000.0"
      ]
     },
     "execution_count": 8,
     "metadata": {},
     "output_type": "execute_result"
    }
   ],
   "source": [
    "(\n",
    "    .6*(.8*server_highdemand + .2*server_lowdemand) +\n",
    "    .4*(.4*server_highdemand + .6*server_lowdemand)\n",
    ")"
   ]
  },
  {
   "cell_type": "code",
   "execution_count": 9,
   "metadata": {},
   "outputs": [
    {
     "data": {
      "text/plain": [
       "181700.0"
      ]
     },
     "execution_count": 9,
     "metadata": {},
     "output_type": "execute_result"
    }
   ],
   "source": [
    "(.8*vps_highdemand + .2*vps_lowdemand)"
   ]
  },
  {
   "cell_type": "code",
   "execution_count": 10,
   "metadata": {},
   "outputs": [
    {
     "data": {
      "text/plain": [
       "125700.0"
      ]
     },
     "execution_count": 10,
     "metadata": {},
     "output_type": "execute_result"
    }
   ],
   "source": [
    "(.4*vps_highdemand + .6*vps_lowdemand)"
   ]
  },
  {
   "cell_type": "code",
   "execution_count": 11,
   "metadata": {},
   "outputs": [
    {
     "data": {
      "text/plain": [
       "159300.0"
      ]
     },
     "execution_count": 11,
     "metadata": {},
     "output_type": "execute_result"
    }
   ],
   "source": [
    "(\n",
    "    .6*(.8*vps_highdemand + .2*vps_lowdemand) +\n",
    "    .4*(.4*vps_highdemand + .6*vps_lowdemand)\n",
    ")"
   ]
  },
  {
   "cell_type": "markdown",
   "metadata": {},
   "source": [
    "Balance after three years:"
   ]
  },
  {
   "cell_type": "code",
   "execution_count": 12,
   "metadata": {
    "collapsed": true
   },
   "outputs": [],
   "source": [
    "import pandas as pd"
   ]
  },
  {
   "cell_type": "code",
   "execution_count": 13,
   "metadata": {},
   "outputs": [
    {
     "data": {
      "text/html": [
       "<div>\n",
       "<style>\n",
       "    .dataframe thead tr:only-child th {\n",
       "        text-align: right;\n",
       "    }\n",
       "\n",
       "    .dataframe thead th {\n",
       "        text-align: left;\n",
       "    }\n",
       "\n",
       "    .dataframe tbody tr th {\n",
       "        vertical-align: top;\n",
       "    }\n",
       "</style>\n",
       "<table border=\"1\" class=\"dataframe\">\n",
       "  <thead>\n",
       "    <tr style=\"text-align: right;\">\n",
       "      <th></th>\n",
       "      <th>choice</th>\n",
       "      <th>initial_costs</th>\n",
       "      <th>p1</th>\n",
       "      <th>y1d</th>\n",
       "      <th>p2</th>\n",
       "      <th>y2d</th>\n",
       "      <th>y3d</th>\n",
       "      <th>balance</th>\n",
       "      <th>joint</th>\n",
       "    </tr>\n",
       "  </thead>\n",
       "  <tbody>\n",
       "    <tr>\n",
       "      <th>0</th>\n",
       "      <td>server</td>\n",
       "      <td>-352000</td>\n",
       "      <td>0.6</td>\n",
       "      <td>339000</td>\n",
       "      <td>0.8</td>\n",
       "      <td>339000</td>\n",
       "      <td>339000</td>\n",
       "      <td>665000</td>\n",
       "      <td>0.48</td>\n",
       "    </tr>\n",
       "    <tr>\n",
       "      <th>1</th>\n",
       "      <td>server</td>\n",
       "      <td>-352000</td>\n",
       "      <td>0.6</td>\n",
       "      <td>339000</td>\n",
       "      <td>0.2</td>\n",
       "      <td>139000</td>\n",
       "      <td>139000</td>\n",
       "      <td>265000</td>\n",
       "      <td>0.12</td>\n",
       "    </tr>\n",
       "    <tr>\n",
       "      <th>2</th>\n",
       "      <td>server</td>\n",
       "      <td>-352000</td>\n",
       "      <td>0.4</td>\n",
       "      <td>139000</td>\n",
       "      <td>0.4</td>\n",
       "      <td>339000</td>\n",
       "      <td>339000</td>\n",
       "      <td>465000</td>\n",
       "      <td>0.16</td>\n",
       "    </tr>\n",
       "    <tr>\n",
       "      <th>3</th>\n",
       "      <td>server</td>\n",
       "      <td>-352000</td>\n",
       "      <td>0.4</td>\n",
       "      <td>139000</td>\n",
       "      <td>0.6</td>\n",
       "      <td>139000</td>\n",
       "      <td>139000</td>\n",
       "      <td>65000</td>\n",
       "      <td>0.24</td>\n",
       "    </tr>\n",
       "    <tr>\n",
       "      <th>4</th>\n",
       "      <td>vps</td>\n",
       "      <td>-201000</td>\n",
       "      <td>0.6</td>\n",
       "      <td>209700</td>\n",
       "      <td>0.8</td>\n",
       "      <td>209700</td>\n",
       "      <td>209700</td>\n",
       "      <td>428100</td>\n",
       "      <td>0.48</td>\n",
       "    </tr>\n",
       "    <tr>\n",
       "      <th>5</th>\n",
       "      <td>vps</td>\n",
       "      <td>-201000</td>\n",
       "      <td>0.6</td>\n",
       "      <td>209700</td>\n",
       "      <td>0.2</td>\n",
       "      <td>69700</td>\n",
       "      <td>69700</td>\n",
       "      <td>148100</td>\n",
       "      <td>0.12</td>\n",
       "    </tr>\n",
       "    <tr>\n",
       "      <th>6</th>\n",
       "      <td>vps</td>\n",
       "      <td>-201000</td>\n",
       "      <td>0.4</td>\n",
       "      <td>69700</td>\n",
       "      <td>0.4</td>\n",
       "      <td>209700</td>\n",
       "      <td>209700</td>\n",
       "      <td>288100</td>\n",
       "      <td>0.16</td>\n",
       "    </tr>\n",
       "    <tr>\n",
       "      <th>7</th>\n",
       "      <td>vps</td>\n",
       "      <td>-201000</td>\n",
       "      <td>0.4</td>\n",
       "      <td>69700</td>\n",
       "      <td>0.6</td>\n",
       "      <td>69700</td>\n",
       "      <td>69700</td>\n",
       "      <td>8100</td>\n",
       "      <td>0.24</td>\n",
       "    </tr>\n",
       "  </tbody>\n",
       "</table>\n",
       "</div>"
      ],
      "text/plain": [
       "   choice  initial_costs   p1     y1d   p2     y2d     y3d  balance  joint\n",
       "0  server        -352000  0.6  339000  0.8  339000  339000   665000   0.48\n",
       "1  server        -352000  0.6  339000  0.2  139000  139000   265000   0.12\n",
       "2  server        -352000  0.4  139000  0.4  339000  339000   465000   0.16\n",
       "3  server        -352000  0.4  139000  0.6  139000  139000    65000   0.24\n",
       "4     vps        -201000  0.6  209700  0.8  209700  209700   428100   0.48\n",
       "5     vps        -201000  0.6  209700  0.2   69700   69700   148100   0.12\n",
       "6     vps        -201000  0.4   69700  0.4  209700  209700   288100   0.16\n",
       "7     vps        -201000  0.4   69700  0.6   69700   69700     8100   0.24"
      ]
     },
     "metadata": {},
     "output_type": "display_data"
    },
    {
     "name": "stdout",
     "output_type": "stream",
     "text": [
      "server 441000.0\n",
      "vps 271300.0\n"
     ]
    }
   ],
   "source": [
    "diffs = pd.DataFrame(\n",
    "    columns=(\n",
    "        ['choice', 'initial_costs', 'p1', 'y1d', 'p2', 'y2d']),\n",
    "    data=[\n",
    "        ['server', -201000-151000,  .6,   339000, .8,  339000],\n",
    "        ['server', -201000-151000,  .6,   339000, .2,  139000],\n",
    "        ['server', -201000-151000,  .4,   139000, .4,  339000],\n",
    "        ['server', -201000-151000,  .4,   139000, .6,  139000],\n",
    "        \n",
    "        ['vps',    -201000,         .6,   209700, .8,  209700],\n",
    "        ['vps',    -201000,         .6,   209700, .2,  69700 ],\n",
    "        ['vps',    -201000,         .4,   69700,  .4,  209700],\n",
    "        ['vps',    -201000,         .4,   69700,  .6,  69700 ],\n",
    "    ], )\n",
    "\n",
    "diffs['y3d'] = diffs['y2d']\n",
    "diffs['balance'] = diffs.initial_costs + diffs.y1d + diffs.y2d + diffs.y3d\n",
    "diffs['joint'] = diffs['p1'] * diffs['p2']\n",
    "display(diffs)\n",
    "by_choice = diffs.groupby('choice')\n",
    "for c,df in by_choice:\n",
    "    print(c, (df['balance']*df['joint']).sum())"
   ]
  },
  {
   "cell_type": "code",
   "execution_count": 14,
   "metadata": {
    "collapsed": true
   },
   "outputs": [],
   "source": [
    "def deposit_account(v0, x, n):\n",
    "    return v0*(1.2-x)**n\n",
    "\n",
    "def deposit_draw(v0, x, n):\n",
    "    return v0*x*(1.2-x)**(n-1)"
   ]
  },
  {
   "cell_type": "code",
   "execution_count": 15,
   "metadata": {},
   "outputs": [
    {
     "data": {
      "text/plain": [
       "(266199.9999999999, 24199.999999999996)"
      ]
     },
     "execution_count": 15,
     "metadata": {},
     "output_type": "execute_result"
    }
   ],
   "source": [
    "deposit_account(200000, .1, 3), deposit_draw(200000, .1, 3)"
   ]
  }
 ],
 "metadata": {
  "kernelspec": {
   "display_name": "Python 3",
   "language": "python",
   "name": "python3"
  },
  "language_info": {
   "codemirror_mode": {
    "name": "ipython",
    "version": 3
   },
   "file_extension": ".py",
   "mimetype": "text/x-python",
   "name": "python",
   "nbconvert_exporter": "python",
   "pygments_lexer": "ipython3",
   "version": "3.6.3"
  }
 },
 "nbformat": 4,
 "nbformat_minor": 2
}
