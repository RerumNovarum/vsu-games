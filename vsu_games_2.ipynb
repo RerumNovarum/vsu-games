{
 "cells": [
  {
   "cell_type": "markdown",
   "metadata": {},
   "source": [
    "# Problem 2\n",
    "\n",
    "<img src=\"2.jpg\" width=\"80%\" />"
   ]
  },
  {
   "cell_type": "code",
   "execution_count": 1,
   "metadata": {
    "ExecuteTime": {
     "end_time": "2017-12-30T11:55:04.974394Z",
     "start_time": "2017-12-30T11:55:04.452784Z"
    },
    "collapsed": true
   },
   "outputs": [],
   "source": [
    "import numpy as np\n",
    "import pandas as pd\n",
    "import matplotlib.pyplot as plt\n",
    "\n",
    "%matplotlib inline"
   ]
  },
  {
   "cell_type": "markdown",
   "metadata": {},
   "source": [
    "..."
   ]
  },
  {
   "cell_type": "code",
   "execution_count": 2,
   "metadata": {
    "ExecuteTime": {
     "end_time": "2017-12-30T11:55:05.066973Z",
     "start_time": "2017-12-30T11:55:04.976383Z"
    }
   },
   "outputs": [
    {
     "data": {
      "text/html": [
       "<div>\n",
       "<style scoped>\n",
       "    .dataframe tbody tr th:only-of-type {\n",
       "        vertical-align: middle;\n",
       "    }\n",
       "\n",
       "    .dataframe tbody tr th {\n",
       "        vertical-align: top;\n",
       "    }\n",
       "\n",
       "    .dataframe thead th {\n",
       "        text-align: right;\n",
       "    }\n",
       "</style>\n",
       "<table border=\"1\" class=\"dataframe\">\n",
       "  <thead>\n",
       "    <tr style=\"text-align: right;\">\n",
       "      <th></th>\n",
       "      <th>0</th>\n",
       "      <th>1</th>\n",
       "      <th>2</th>\n",
       "      <th>3</th>\n",
       "      <th>4</th>\n",
       "    </tr>\n",
       "  </thead>\n",
       "  <tbody>\n",
       "    <tr>\n",
       "      <th>a</th>\n",
       "      <td>4001.0</td>\n",
       "      <td>4501.0</td>\n",
       "      <td>5001.0</td>\n",
       "      <td>5501.0</td>\n",
       "      <td>6001.0</td>\n",
       "    </tr>\n",
       "    <tr>\n",
       "      <th>p</th>\n",
       "      <td>0.1</td>\n",
       "      <td>0.3</td>\n",
       "      <td>0.3</td>\n",
       "      <td>0.2</td>\n",
       "      <td>0.1</td>\n",
       "    </tr>\n",
       "    <tr>\n",
       "      <th>sales</th>\n",
       "      <td>1600.4</td>\n",
       "      <td>1800.4</td>\n",
       "      <td>2000.4</td>\n",
       "      <td>2200.4</td>\n",
       "      <td>2400.4</td>\n",
       "    </tr>\n",
       "  </tbody>\n",
       "</table>\n",
       "</div>"
      ],
      "text/plain": [
       "            0       1       2       3       4\n",
       "a      4001.0  4501.0  5001.0  5501.0  6001.0\n",
       "p         0.1     0.3     0.3     0.2     0.1\n",
       "sales  1600.4  1800.4  2000.4  2200.4  2400.4"
      ]
     },
     "execution_count": 2,
     "metadata": {},
     "output_type": "execute_result"
    }
   ],
   "source": [
    "# ``a'' stands for ``attendance''\n",
    "df = pd.DataFrame({\n",
    "    'a': [4000, 4500, 5000, 5500, 6000],\n",
    "    'p': [.1, .3, .3, .2, .1],\n",
    "})\n",
    "star = 1\n",
    "df.a += star\n",
    "df['sales'] = df.a * .40\n",
    "df.transpose()"
   ]
  },
  {
   "cell_type": "code",
   "execution_count": 3,
   "metadata": {
    "ExecuteTime": {
     "end_time": "2017-12-30T11:55:05.175317Z",
     "start_time": "2017-12-30T11:55:05.069450Z"
    },
    "scrolled": true
   },
   "outputs": [
    {
     "data": {
      "text/html": [
       "<div>\n",
       "<style scoped>\n",
       "    .dataframe tbody tr th:only-of-type {\n",
       "        vertical-align: middle;\n",
       "    }\n",
       "\n",
       "    .dataframe tbody tr th {\n",
       "        vertical-align: top;\n",
       "    }\n",
       "\n",
       "    .dataframe thead th {\n",
       "        text-align: right;\n",
       "    }\n",
       "</style>\n",
       "<table border=\"1\" class=\"dataframe\">\n",
       "  <thead>\n",
       "    <tr style=\"text-align: right;\">\n",
       "      <th></th>\n",
       "      <th>base_cost</th>\n",
       "      <th>base_income</th>\n",
       "      <th>unit_cost</th>\n",
       "      <th>unit_income</th>\n",
       "    </tr>\n",
       "  </thead>\n",
       "  <tbody>\n",
       "    <tr>\n",
       "      <th>1</th>\n",
       "      <td>200</td>\n",
       "      <td>300</td>\n",
       "      <td>30</td>\n",
       "      <td>60</td>\n",
       "    </tr>\n",
       "  </tbody>\n",
       "</table>\n",
       "</div>"
      ],
      "text/plain": [
       "   base_cost  base_income  unit_cost  unit_income\n",
       "1        200          300         30           60"
      ]
     },
     "execution_count": 3,
     "metadata": {},
     "output_type": "execute_result"
    }
   ],
   "source": [
    "parms = dict(\n",
    "    base_cost = 200,\n",
    "    unit_cost = 30,\n",
    "    unit_income = 60,\n",
    "    base_income = 300,\n",
    ")\n",
    "pd.DataFrame(parms, index=[1])"
   ]
  },
  {
   "cell_type": "code",
   "execution_count": 4,
   "metadata": {
    "ExecuteTime": {
     "end_time": "2017-12-30T11:55:05.263065Z",
     "start_time": "2017-12-30T11:55:05.178828Z"
    },
    "collapsed": true
   },
   "outputs": [],
   "source": [
    "def gen_profit(df, parms):\n",
    "    def profit(q):\n",
    "        sold = np.minimum(df.sales, q)\n",
    "        profit = (\n",
    "            sold*parms['unit_income']\n",
    "            - q*parms['unit_cost']\n",
    "            + parms['base_income']\n",
    "            - parms['base_cost']\n",
    "        )\n",
    "        return profit\n",
    "    return profit\n",
    "def gen_profit_moments(df, parms):\n",
    "    profit = gen_profit(df, parms)\n",
    "    def profit_moments(q):\n",
    "        pro = profit(q)\n",
    "        mu = (df.p * pro).sum()\n",
    "        std = np.sqrt((df.p * (pro - mu)**2).sum())\n",
    "        return mu, std\n",
    "    return profit_moments"
   ]
  },
  {
   "cell_type": "code",
   "execution_count": 5,
   "metadata": {
    "ExecuteTime": {
     "end_time": "2017-12-30T11:55:05.343518Z",
     "start_time": "2017-12-30T11:55:05.265066Z"
    },
    "collapsed": true
   },
   "outputs": [],
   "source": [
    "#QQ = np.arange(df.sales.min(), df.sales.max() + 1, 1)\n",
    "QQ = df.sales\n",
    "profit, moments = gen_profit(df, parms), gen_profit_moments(df, parms)"
   ]
  },
  {
   "cell_type": "code",
   "execution_count": 6,
   "metadata": {
    "ExecuteTime": {
     "end_time": "2017-12-30T11:55:05.430352Z",
     "start_time": "2017-12-30T11:55:05.345541Z"
    },
    "collapsed": true
   },
   "outputs": [],
   "source": [
    "expvar = pd.DataFrame(index=QQ, data=list(map(moments, QQ)), columns=['E', 'sigma'])\n",
    "low = df.assign(p=1).iloc[0, :]\n",
    "low = list(map(lambda x: np.asscalar(x), map(gen_profit(low, parms), QQ)))\n",
    "high = df.assign(p=1).iloc[4, :]\n",
    "high = list(map(lambda x: np.asscalar(x), map(gen_profit(high, parms), QQ)))"
   ]
  },
  {
   "cell_type": "code",
   "execution_count": 7,
   "metadata": {
    "ExecuteTime": {
     "end_time": "2017-12-30T11:55:05.997597Z",
     "start_time": "2017-12-30T11:55:05.433166Z"
    }
   },
   "outputs": [
    {
     "data": {
      "image/png": "[encoded data removed]",
      "text/plain": [
       "<matplotlib.figure.Figure at 0x62aa9fe117f0>"
      ]
     },
     "metadata": {},
     "output_type": "display_data"
    },
    {
     "name": "stdout",
     "output_type": "stream",
     "text": [
      "Laplace criterion suggests 2000.4\n"
     ]
    }
   ],
   "source": [
    "plt.figure(figsize=(16, 8))\n",
    "plt.plot(QQ, expvar.E, color='red', linewidth=4, label='Expectation')\n",
    "explow, exphigh = expvar.E - expvar.sigma, expvar.E + expvar.sigma\n",
    "exp3low, exp3high = expvar.E - 3*expvar.sigma, expvar.E + 3*expvar.sigma\n",
    "for b in [explow, exphigh, exp3low, exp3high]:\n",
    "    plt.plot(QQ, b, color='gray')\n",
    "plt.plot(QQ, low, color='black', label='Worst demand')\n",
    "plt.plot(QQ, high, color='black', label='Best demand')\n",
    "plt.fill_between(QQ, exp3low, exp3high, color='#e8edf7', label='Within 3 std')\n",
    "plt.fill_between(QQ, explow, exphigh, color='lightgray', label='Within std')\n",
    "plt.scatter(expvar.E.idxmax(), expvar.E.max(),\n",
    "            label='Maximal expectation; q=%s' % expvar.E.idxmax(),\n",
    "            color='black', lw=4)\n",
    "plt.legend()\n",
    "plt.show()\n",
    "print('Laplace criterion suggests %s' % expvar.E.idxmax())"
   ]
  },
  {
   "cell_type": "code",
   "execution_count": 8,
   "metadata": {
    "ExecuteTime": {
     "end_time": "2017-12-30T11:57:33.506258Z",
     "start_time": "2017-12-30T11:57:33.474906Z"
    },
    "collapsed": true
   },
   "outputs": [],
   "source": [
    "P0 = pd.DataFrame([profit(q).as_matrix() for q in QQ], index=QQ, columns=QQ)"
   ]
  },
  {
   "cell_type": "code",
   "execution_count": 9,
   "metadata": {
    "ExecuteTime": {
     "end_time": "2017-12-30T11:57:34.493116Z",
     "start_time": "2017-12-30T11:57:34.465634Z"
    }
   },
   "outputs": [
    {
     "name": "stdout",
     "output_type": "stream",
     "text": [
      "Minimal and maximal payoffs for each alternative\n",
      "Wald's maximin suggests: 1600.4\n"
     ]
    },
    {
     "data": {
      "text/html": [
       "<div>\n",
       "<style scoped>\n",
       "    .dataframe tbody tr th:only-of-type {\n",
       "        vertical-align: middle;\n",
       "    }\n",
       "\n",
       "    .dataframe tbody tr th {\n",
       "        vertical-align: top;\n",
       "    }\n",
       "\n",
       "    .dataframe thead th {\n",
       "        text-align: right;\n",
       "    }\n",
       "</style>\n",
       "<table border=\"1\" class=\"dataframe\">\n",
       "  <thead>\n",
       "    <tr style=\"text-align: right;\">\n",
       "      <th>sales</th>\n",
       "      <th>1600.4</th>\n",
       "      <th>1800.4</th>\n",
       "      <th>2000.4</th>\n",
       "      <th>2200.4</th>\n",
       "      <th>2400.4</th>\n",
       "      <th>min</th>\n",
       "      <th>max</th>\n",
       "    </tr>\n",
       "    <tr>\n",
       "      <th>sales</th>\n",
       "      <th></th>\n",
       "      <th></th>\n",
       "      <th></th>\n",
       "      <th></th>\n",
       "      <th></th>\n",
       "      <th></th>\n",
       "      <th></th>\n",
       "    </tr>\n",
       "  </thead>\n",
       "  <tbody>\n",
       "    <tr>\n",
       "      <th>1600.4</th>\n",
       "      <td>48112.0</td>\n",
       "      <td>48112.0</td>\n",
       "      <td>48112.0</td>\n",
       "      <td>48112.0</td>\n",
       "      <td>48112.0</td>\n",
       "      <td>48112.0</td>\n",
       "      <td>48112.0</td>\n",
       "    </tr>\n",
       "    <tr>\n",
       "      <th>1800.4</th>\n",
       "      <td>42112.0</td>\n",
       "      <td>54112.0</td>\n",
       "      <td>54112.0</td>\n",
       "      <td>54112.0</td>\n",
       "      <td>54112.0</td>\n",
       "      <td>42112.0</td>\n",
       "      <td>54112.0</td>\n",
       "    </tr>\n",
       "    <tr>\n",
       "      <th>2000.4</th>\n",
       "      <td>36112.0</td>\n",
       "      <td>48112.0</td>\n",
       "      <td>60112.0</td>\n",
       "      <td>60112.0</td>\n",
       "      <td>60112.0</td>\n",
       "      <td>36112.0</td>\n",
       "      <td>60112.0</td>\n",
       "    </tr>\n",
       "    <tr>\n",
       "      <th>2200.4</th>\n",
       "      <td>30112.0</td>\n",
       "      <td>42112.0</td>\n",
       "      <td>54112.0</td>\n",
       "      <td>66112.0</td>\n",
       "      <td>66112.0</td>\n",
       "      <td>30112.0</td>\n",
       "      <td>66112.0</td>\n",
       "    </tr>\n",
       "    <tr>\n",
       "      <th>2400.4</th>\n",
       "      <td>24112.0</td>\n",
       "      <td>36112.0</td>\n",
       "      <td>48112.0</td>\n",
       "      <td>60112.0</td>\n",
       "      <td>72112.0</td>\n",
       "      <td>24112.0</td>\n",
       "      <td>72112.0</td>\n",
       "    </tr>\n",
       "  </tbody>\n",
       "</table>\n",
       "</div>"
      ],
      "text/plain": [
       "sales    1600.4   1800.4   2000.4   2200.4   2400.4      min      max\n",
       "sales                                                                \n",
       "1600.4  48112.0  48112.0  48112.0  48112.0  48112.0  48112.0  48112.0\n",
       "1800.4  42112.0  54112.0  54112.0  54112.0  54112.0  42112.0  54112.0\n",
       "2000.4  36112.0  48112.0  60112.0  60112.0  60112.0  36112.0  60112.0\n",
       "2200.4  30112.0  42112.0  54112.0  66112.0  66112.0  30112.0  66112.0\n",
       "2400.4  24112.0  36112.0  48112.0  60112.0  72112.0  24112.0  72112.0"
      ]
     },
     "execution_count": 9,
     "metadata": {},
     "output_type": "execute_result"
    }
   ],
   "source": [
    "P = P0.copy()\n",
    "P['min'] = P0.min(axis=1)\n",
    "P['max'] = P0.max(axis=1)\n",
    "print('Minimal and maximal payoffs for each alternative')\n",
    "print(\"Wald's maximin suggests: %s\" % P['min'].idxmax())\n",
    "P"
   ]
  },
  {
   "cell_type": "code",
   "execution_count": 10,
   "metadata": {
    "ExecuteTime": {
     "end_time": "2017-12-30T11:57:34.658830Z",
     "start_time": "2017-12-30T11:57:34.638951Z"
    }
   },
   "outputs": [
    {
     "name": "stdout",
     "output_type": "stream",
     "text": [
      "Regrets for each outcome are:\n"
     ]
    },
    {
     "data": {
      "text/html": [
       "<div>\n",
       "<style scoped>\n",
       "    .dataframe tbody tr th:only-of-type {\n",
       "        vertical-align: middle;\n",
       "    }\n",
       "\n",
       "    .dataframe tbody tr th {\n",
       "        vertical-align: top;\n",
       "    }\n",
       "\n",
       "    .dataframe thead th {\n",
       "        text-align: right;\n",
       "    }\n",
       "</style>\n",
       "<table border=\"1\" class=\"dataframe\">\n",
       "  <thead>\n",
       "    <tr style=\"text-align: right;\">\n",
       "      <th>sales</th>\n",
       "      <th>1600.4</th>\n",
       "      <th>1800.4</th>\n",
       "      <th>2000.4</th>\n",
       "      <th>2200.4</th>\n",
       "      <th>2400.4</th>\n",
       "    </tr>\n",
       "    <tr>\n",
       "      <th>sales</th>\n",
       "      <th></th>\n",
       "      <th></th>\n",
       "      <th></th>\n",
       "      <th></th>\n",
       "      <th></th>\n",
       "    </tr>\n",
       "  </thead>\n",
       "  <tbody>\n",
       "    <tr>\n",
       "      <th>1600.4</th>\n",
       "      <td>0.0</td>\n",
       "      <td>6000.0</td>\n",
       "      <td>12000.0</td>\n",
       "      <td>18000.0</td>\n",
       "      <td>24000.0</td>\n",
       "    </tr>\n",
       "    <tr>\n",
       "      <th>1800.4</th>\n",
       "      <td>6000.0</td>\n",
       "      <td>0.0</td>\n",
       "      <td>6000.0</td>\n",
       "      <td>12000.0</td>\n",
       "      <td>18000.0</td>\n",
       "    </tr>\n",
       "    <tr>\n",
       "      <th>2000.4</th>\n",
       "      <td>12000.0</td>\n",
       "      <td>6000.0</td>\n",
       "      <td>0.0</td>\n",
       "      <td>6000.0</td>\n",
       "      <td>12000.0</td>\n",
       "    </tr>\n",
       "    <tr>\n",
       "      <th>2200.4</th>\n",
       "      <td>18000.0</td>\n",
       "      <td>12000.0</td>\n",
       "      <td>6000.0</td>\n",
       "      <td>0.0</td>\n",
       "      <td>6000.0</td>\n",
       "    </tr>\n",
       "    <tr>\n",
       "      <th>2400.4</th>\n",
       "      <td>24000.0</td>\n",
       "      <td>18000.0</td>\n",
       "      <td>12000.0</td>\n",
       "      <td>6000.0</td>\n",
       "      <td>0.0</td>\n",
       "    </tr>\n",
       "  </tbody>\n",
       "</table>\n",
       "</div>"
      ],
      "text/plain": [
       "sales    1600.4   1800.4   2000.4   2200.4   2400.4\n",
       "sales                                              \n",
       "1600.4      0.0   6000.0  12000.0  18000.0  24000.0\n",
       "1800.4   6000.0      0.0   6000.0  12000.0  18000.0\n",
       "2000.4  12000.0   6000.0      0.0   6000.0  12000.0\n",
       "2200.4  18000.0  12000.0   6000.0      0.0   6000.0\n",
       "2400.4  24000.0  18000.0  12000.0   6000.0      0.0"
      ]
     },
     "execution_count": 10,
     "metadata": {},
     "output_type": "execute_result"
    }
   ],
   "source": [
    "regret = P0.max(axis=0) - P0\n",
    "print('Regrets for each outcome are:')\n",
    "regret"
   ]
  },
  {
   "cell_type": "code",
   "execution_count": 11,
   "metadata": {
    "ExecuteTime": {
     "end_time": "2017-12-30T11:58:51.171089Z",
     "start_time": "2017-12-30T11:58:51.144947Z"
    }
   },
   "outputs": [
    {
     "data": {
      "text/html": [
       "<div>\n",
       "<style scoped>\n",
       "    .dataframe tbody tr th:only-of-type {\n",
       "        vertical-align: middle;\n",
       "    }\n",
       "\n",
       "    .dataframe tbody tr th {\n",
       "        vertical-align: top;\n",
       "    }\n",
       "\n",
       "    .dataframe thead th {\n",
       "        text-align: right;\n",
       "    }\n",
       "</style>\n",
       "<table border=\"1\" class=\"dataframe\">\n",
       "  <thead>\n",
       "    <tr style=\"text-align: right;\">\n",
       "      <th>sales</th>\n",
       "      <th>1600.4</th>\n",
       "      <th>1800.4</th>\n",
       "      <th>2000.4</th>\n",
       "      <th>2200.4</th>\n",
       "      <th>2400.4</th>\n",
       "      <th>min</th>\n",
       "      <th>max</th>\n",
       "      <th>savage</th>\n",
       "    </tr>\n",
       "    <tr>\n",
       "      <th>sales</th>\n",
       "      <th></th>\n",
       "      <th></th>\n",
       "      <th></th>\n",
       "      <th></th>\n",
       "      <th></th>\n",
       "      <th></th>\n",
       "      <th></th>\n",
       "      <th></th>\n",
       "    </tr>\n",
       "  </thead>\n",
       "  <tbody>\n",
       "    <tr>\n",
       "      <th>1600.4</th>\n",
       "      <td>48112.0</td>\n",
       "      <td>48112.0</td>\n",
       "      <td>48112.0</td>\n",
       "      <td>48112.0</td>\n",
       "      <td>48112.0</td>\n",
       "      <td>48112.0</td>\n",
       "      <td>48112.0</td>\n",
       "      <td>24000.0</td>\n",
       "    </tr>\n",
       "    <tr>\n",
       "      <th>1800.4</th>\n",
       "      <td>42112.0</td>\n",
       "      <td>54112.0</td>\n",
       "      <td>54112.0</td>\n",
       "      <td>54112.0</td>\n",
       "      <td>54112.0</td>\n",
       "      <td>42112.0</td>\n",
       "      <td>54112.0</td>\n",
       "      <td>18000.0</td>\n",
       "    </tr>\n",
       "    <tr>\n",
       "      <th>2000.4</th>\n",
       "      <td>36112.0</td>\n",
       "      <td>48112.0</td>\n",
       "      <td>60112.0</td>\n",
       "      <td>60112.0</td>\n",
       "      <td>60112.0</td>\n",
       "      <td>36112.0</td>\n",
       "      <td>60112.0</td>\n",
       "      <td>12000.0</td>\n",
       "    </tr>\n",
       "    <tr>\n",
       "      <th>2200.4</th>\n",
       "      <td>30112.0</td>\n",
       "      <td>42112.0</td>\n",
       "      <td>54112.0</td>\n",
       "      <td>66112.0</td>\n",
       "      <td>66112.0</td>\n",
       "      <td>30112.0</td>\n",
       "      <td>66112.0</td>\n",
       "      <td>18000.0</td>\n",
       "    </tr>\n",
       "    <tr>\n",
       "      <th>2400.4</th>\n",
       "      <td>24112.0</td>\n",
       "      <td>36112.0</td>\n",
       "      <td>48112.0</td>\n",
       "      <td>60112.0</td>\n",
       "      <td>72112.0</td>\n",
       "      <td>24112.0</td>\n",
       "      <td>72112.0</td>\n",
       "      <td>24000.0</td>\n",
       "    </tr>\n",
       "  </tbody>\n",
       "</table>\n",
       "</div>"
      ],
      "text/plain": [
       "sales    1600.4   1800.4   2000.4   2200.4   2400.4      min      max   savage\n",
       "sales                                                                         \n",
       "1600.4  48112.0  48112.0  48112.0  48112.0  48112.0  48112.0  48112.0  24000.0\n",
       "1800.4  42112.0  54112.0  54112.0  54112.0  54112.0  42112.0  54112.0  18000.0\n",
       "2000.4  36112.0  48112.0  60112.0  60112.0  60112.0  36112.0  60112.0  12000.0\n",
       "2200.4  30112.0  42112.0  54112.0  66112.0  66112.0  30112.0  66112.0  18000.0\n",
       "2400.4  24112.0  36112.0  48112.0  60112.0  72112.0  24112.0  72112.0  24000.0"
      ]
     },
     "metadata": {},
     "output_type": "display_data"
    },
    {
     "name": "stdout",
     "output_type": "stream",
     "text": [
      "(Savage) Minmax regret model suggests 2000.4\n"
     ]
    }
   ],
   "source": [
    "P['savage'] = regret.max(axis=1)\n",
    "display(P)\n",
    "print('(Savage) Minmax regret model suggests %s' % P.savage.idxmin())"
   ]
  }
 ],
 "metadata": {
  "kernelspec": {
   "display_name": "Python 3",
   "language": "python",
   "name": "python3"
  },
  "language_info": {
   "codemirror_mode": {
    "name": "ipython",
    "version": 3
   },
   "file_extension": ".py",
   "mimetype": "text/x-python",
   "name": "python",
   "nbconvert_exporter": "python",
   "pygments_lexer": "ipython3",
   "version": "3.6.3"
  },
  "latex_envs": {
   "LaTeX_envs_menu_present": true,
   "autoclose": true,
   "autocomplete": true,
   "bibliofile": "biblio.bib",
   "cite_by": "apalike",
   "current_citInitial": 1,
   "eqLabelWithNumbers": true,
   "eqNumInitial": 1,
   "hotkeys": {
    "equation": "Ctrl-E",
    "itemize": "Ctrl-I"
   },
   "labels_anchors": false,
   "latex_user_defs": false,
   "report_style_numbering": false,
   "user_envs_cfg": false
  }
 },
 "nbformat": 4,
 "nbformat_minor": 2
}
