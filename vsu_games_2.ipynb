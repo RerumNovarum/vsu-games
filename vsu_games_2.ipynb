{
 "cells": [
  {
   "cell_type": "markdown",
   "metadata": {},
   "source": [
    "# Problem 2\n",
    "\n",
    "<img src=\"2.jpg\" width=\"80%\" />"
   ]
  },
  {
   "cell_type": "code",
   "execution_count": 1,
   "metadata": {
    "ExecuteTime": {
     "end_time": "2017-12-30T07:33:48.474487Z",
     "start_time": "2017-12-30T07:33:48.118817Z"
    },
    "collapsed": true
   },
   "outputs": [],
   "source": [
    "import numpy as np\n",
    "import pandas as pd\n",
    "import matplotlib.pyplot as plt\n",
    "\n",
    "%matplotlib inline"
   ]
  },
  {
   "cell_type": "markdown",
   "metadata": {},
   "source": [
    "..."
   ]
  },
  {
   "cell_type": "code",
   "execution_count": 2,
   "metadata": {
    "ExecuteTime": {
     "end_time": "2017-12-30T07:33:48.489455Z",
     "start_time": "2017-12-30T07:33:48.475981Z"
    }
   },
   "outputs": [
    {
     "data": {
      "text/html": [
       "<div>\n",
       "<style>\n",
       "    .dataframe thead tr:only-child th {\n",
       "        text-align: right;\n",
       "    }\n",
       "\n",
       "    .dataframe thead th {\n",
       "        text-align: left;\n",
       "    }\n",
       "\n",
       "    .dataframe tbody tr th {\n",
       "        vertical-align: top;\n",
       "    }\n",
       "</style>\n",
       "<table border=\"1\" class=\"dataframe\">\n",
       "  <thead>\n",
       "    <tr style=\"text-align: right;\">\n",
       "      <th></th>\n",
       "      <th>0</th>\n",
       "      <th>1</th>\n",
       "      <th>2</th>\n",
       "      <th>3</th>\n",
       "      <th>4</th>\n",
       "    </tr>\n",
       "  </thead>\n",
       "  <tbody>\n",
       "    <tr>\n",
       "      <th>a</th>\n",
       "      <td>4001.0</td>\n",
       "      <td>4501.0</td>\n",
       "      <td>5001.0</td>\n",
       "      <td>5501.0</td>\n",
       "      <td>6001.0</td>\n",
       "    </tr>\n",
       "    <tr>\n",
       "      <th>p</th>\n",
       "      <td>0.1</td>\n",
       "      <td>0.3</td>\n",
       "      <td>0.3</td>\n",
       "      <td>0.2</td>\n",
       "      <td>0.1</td>\n",
       "    </tr>\n",
       "    <tr>\n",
       "      <th>sales</th>\n",
       "      <td>1600.4</td>\n",
       "      <td>1800.4</td>\n",
       "      <td>2000.4</td>\n",
       "      <td>2200.4</td>\n",
       "      <td>2400.4</td>\n",
       "    </tr>\n",
       "  </tbody>\n",
       "</table>\n",
       "</div>"
      ],
      "text/plain": [
       "            0       1       2       3       4\n",
       "a      4001.0  4501.0  5001.0  5501.0  6001.0\n",
       "p         0.1     0.3     0.3     0.2     0.1\n",
       "sales  1600.4  1800.4  2000.4  2200.4  2400.4"
      ]
     },
     "execution_count": 2,
     "metadata": {},
     "output_type": "execute_result"
    }
   ],
   "source": [
    "# ``a'' stands for ``attendance''\n",
    "df = pd.DataFrame({\n",
    "    'a': [4000, 4500, 5000, 5500, 6000],\n",
    "    'p': [.1, .3, .3, .2, .1],\n",
    "})\n",
    "star = 1\n",
    "df.a += star\n",
    "df['sales'] = df.a * .40\n",
    "df.transpose()"
   ]
  },
  {
   "cell_type": "code",
   "execution_count": 3,
   "metadata": {
    "ExecuteTime": {
     "end_time": "2017-12-30T07:33:48.571659Z",
     "start_time": "2017-12-30T07:33:48.490669Z"
    }
   },
   "outputs": [
    {
     "data": {
      "text/html": [
       "<div>\n",
       "<style>\n",
       "    .dataframe thead tr:only-child th {\n",
       "        text-align: right;\n",
       "    }\n",
       "\n",
       "    .dataframe thead th {\n",
       "        text-align: left;\n",
       "    }\n",
       "\n",
       "    .dataframe tbody tr th {\n",
       "        vertical-align: top;\n",
       "    }\n",
       "</style>\n",
       "<table border=\"1\" class=\"dataframe\">\n",
       "  <thead>\n",
       "    <tr style=\"text-align: right;\">\n",
       "      <th></th>\n",
       "      <th>base_cost</th>\n",
       "      <th>base_income</th>\n",
       "      <th>unit_cost</th>\n",
       "      <th>unit_income</th>\n",
       "    </tr>\n",
       "  </thead>\n",
       "  <tbody>\n",
       "    <tr>\n",
       "      <th>1</th>\n",
       "      <td>200</td>\n",
       "      <td>300</td>\n",
       "      <td>30</td>\n",
       "      <td>60</td>\n",
       "    </tr>\n",
       "  </tbody>\n",
       "</table>\n",
       "</div>"
      ],
      "text/plain": [
       "   base_cost  base_income  unit_cost  unit_income\n",
       "1        200          300         30           60"
      ]
     },
     "execution_count": 3,
     "metadata": {},
     "output_type": "execute_result"
    }
   ],
   "source": [
    "parms = pd.DataFrame(dict(\n",
    "    base_cost = 200,\n",
    "    unit_cost = 30,\n",
    "    unit_income = 60,\n",
    "    base_income = 300,\n",
    "), index=[1])\n",
    "parms"
   ]
  },
  {
   "cell_type": "code",
   "execution_count": 4,
   "metadata": {
    "ExecuteTime": {
     "end_time": "2017-12-30T07:33:48.654466Z",
     "start_time": "2017-12-30T07:33:48.572926Z"
    },
    "collapsed": true
   },
   "outputs": [],
   "source": [
    "def gen_profit(df, parms):\n",
    "    def profit(q):\n",
    "        sold = np.minimum(df.sales, q)\n",
    "        profit = (\n",
    "            sold*parms.unit_income\n",
    "            - q*parms.unit_cost\n",
    "            + parms.base_income\n",
    "            - parms.base_cost \n",
    "        )\n",
    "        return profit\n",
    "    return profit\n",
    "def gen_profit_moments(df, parms):\n",
    "    profit = gen_profit(df, parms)\n",
    "    def profit_moments(q):\n",
    "        pro = profit(q)\n",
    "        mu = (df.p * pro).sum()\n",
    "        std = np.sqrt((df.p * (pro - mu)**2).sum())\n",
    "        return mu, std\n",
    "    return profit_moments"
   ]
  },
  {
   "cell_type": "code",
   "execution_count": 5,
   "metadata": {
    "ExecuteTime": {
     "end_time": "2017-12-30T07:33:48.799099Z",
     "start_time": "2017-12-30T07:33:48.655803Z"
    },
    "collapsed": true
   },
   "outputs": [],
   "source": [
    "QQ = np.arange(df.sales.min(), df.sales.max() + 1, 1)\n",
    "profit, moments = gen_profit(df, parms), gen_profit_moments(df, parms)"
   ]
  },
  {
   "cell_type": "code",
   "execution_count": 6,
   "metadata": {
    "ExecuteTime": {
     "end_time": "2017-12-30T07:33:50.852162Z",
     "start_time": "2017-12-30T07:33:48.800429Z"
    }
   },
   "outputs": [],
   "source": [
    "expvar = pd.DataFrame(index=QQ, data=list(map(moments, QQ)), columns=['E', 'sigma'])\n",
    "low = df.assign(p=1).iloc[0, :]\n",
    "low = list(map(lambda x: np.asscalar(x), map(gen_profit(low, parms), QQ)))\n",
    "high = df.assign(p=1).iloc[4, :]\n",
    "high = list(map(lambda x: np.asscalar(x), map(gen_profit(high, parms), QQ)))"
   ]
  },
  {
   "cell_type": "code",
   "execution_count": 7,
   "metadata": {
    "ExecuteTime": {
     "end_time": "2017-12-30T07:33:50.865053Z",
     "start_time": "2017-12-30T07:33:50.853467Z"
    }
   },
   "outputs": [
    {
     "data": {
      "text/html": [
       "<div>\n",
       "<style>\n",
       "    .dataframe thead tr:only-child th {\n",
       "        text-align: right;\n",
       "    }\n",
       "\n",
       "    .dataframe thead th {\n",
       "        text-align: left;\n",
       "    }\n",
       "\n",
       "    .dataframe tbody tr th {\n",
       "        vertical-align: top;\n",
       "    }\n",
       "</style>\n",
       "<table border=\"1\" class=\"dataframe\">\n",
       "  <thead>\n",
       "    <tr style=\"text-align: right;\">\n",
       "      <th></th>\n",
       "      <th>a</th>\n",
       "      <th>p</th>\n",
       "      <th>sales</th>\n",
       "    </tr>\n",
       "  </thead>\n",
       "  <tbody>\n",
       "    <tr>\n",
       "      <th>0</th>\n",
       "      <td>4001</td>\n",
       "      <td>1</td>\n",
       "      <td>1600.4</td>\n",
       "    </tr>\n",
       "    <tr>\n",
       "      <th>4</th>\n",
       "      <td>6001</td>\n",
       "      <td>1</td>\n",
       "      <td>2400.4</td>\n",
       "    </tr>\n",
       "  </tbody>\n",
       "</table>\n",
       "</div>"
      ],
      "text/plain": [
       "      a  p   sales\n",
       "0  4001  1  1600.4\n",
       "4  6001  1  2400.4"
      ]
     },
     "execution_count": 7,
     "metadata": {},
     "output_type": "execute_result"
    }
   ],
   "source": [
    "df.assign(p=1).iloc[[0, 4], :]"
   ]
  },
  {
   "cell_type": "code",
   "execution_count": null,
   "metadata": {
    "ExecuteTime": {
     "end_time": "2017-12-30T07:30:32.118722Z",
     "start_time": "2017-12-30T07:30:32.013653Z"
    }
   },
   "outputs": [],
   "source": []
  },
  {
   "cell_type": "code",
   "execution_count": 9,
   "metadata": {
    "ExecuteTime": {
     "end_time": "2017-12-30T07:35:01.520819Z",
     "start_time": "2017-12-30T07:35:01.381308Z"
    }
   },
   "outputs": [
    {
     "data": {
      "image/png": "[encoded data removed]",
      "text/plain": [
       "<matplotlib.figure.Figure at 0x7f54469a4588>"
      ]
     },
     "metadata": {},
     "output_type": "display_data"
    }
   ],
   "source": [
    "plt.plot(QQ, expvar.E, color='red', linewidth=4, label='Expectation')\n",
    "explow, exphigh = expvar.E - expvar.sigma, expvar.E + expvar.sigma\n",
    "plt.plot(QQ, explow, color='gray')\n",
    "plt.plot(QQ, exphigh, color='gray')\n",
    "plt.plot(QQ, low, color='black', label='worst_demand')\n",
    "plt.plot(QQ, high, color='black', label='best_demand')\n",
    "plt.fill_between(QQ, explow, exphigh, color='lightgray')\n",
    "plt.legend()\n",
    "plt.show()"
   ]
  },
  {
   "cell_type": "code",
   "execution_count": 10,
   "metadata": {
    "ExecuteTime": {
     "end_time": "2017-12-30T07:35:45.283073Z",
     "start_time": "2017-12-30T07:35:45.279968Z"
    }
   },
   "outputs": [
    {
     "data": {
      "text/plain": [
       "1800.4000000000001"
      ]
     },
     "execution_count": 10,
     "metadata": {},
     "output_type": "execute_result"
    }
   ],
   "source": [
    "expvar.E.argmax()"
   ]
  },
  {
   "cell_type": "code",
   "execution_count": null,
   "metadata": {
    "collapsed": true
   },
   "outputs": [],
   "source": []
  }
 ],
 "metadata": {
  "kernelspec": {
   "display_name": "Python 3",
   "language": "python",
   "name": "python3"
  },
  "language_info": {
   "codemirror_mode": {
    "name": "ipython",
    "version": 3
   },
   "file_extension": ".py",
   "mimetype": "text/x-python",
   "name": "python",
   "nbconvert_exporter": "python",
   "pygments_lexer": "ipython3",
   "version": "3.6.3"
  },
  "latex_envs": {
   "LaTeX_envs_menu_present": true,
   "autoclose": true,
   "autocomplete": true,
   "bibliofile": "biblio.bib",
   "cite_by": "apalike",
   "current_citInitial": 1,
   "eqLabelWithNumbers": true,
   "eqNumInitial": 1,
   "hotkeys": {
    "equation": "Ctrl-E",
    "itemize": "Ctrl-I"
   },
   "labels_anchors": false,
   "latex_user_defs": false,
   "report_style_numbering": false,
   "user_envs_cfg": false
  }
 },
 "nbformat": 4,
 "nbformat_minor": 2
}
