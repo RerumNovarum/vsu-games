{
 "cells": [
  {
   "cell_type": "markdown",
   "metadata": {},
   "source": [
    "# Problem 2\n",
    "\n",
    "<img src=\"2.jpg\" width=\"50%\" />"
   ]
  },
  {
   "cell_type": "code",
   "execution_count": 51,
   "metadata": {
    "ExecuteTime": {
     "end_time": "2017-12-29T09:59:57.405022Z",
     "start_time": "2017-12-29T09:59:57.398570Z"
    }
   },
   "outputs": [],
   "source": [
    "import numpy as np\n",
    "import pandas as pd\n",
    "import matplotlib.pyplot as plt\n",
    "\n",
    "%matplotlib inline"
   ]
  },
  {
   "cell_type": "markdown",
   "metadata": {},
   "source": [
    "..."
   ]
  },
  {
   "cell_type": "code",
   "execution_count": 52,
   "metadata": {
    "ExecuteTime": {
     "end_time": "2017-12-29T09:59:57.611631Z",
     "start_time": "2017-12-29T09:59:57.414359Z"
    }
   },
   "outputs": [
    {
     "data": {
      "text/html": [
       "<div>\n",
       "<style scoped>\n",
       "    .dataframe tbody tr th:only-of-type {\n",
       "        vertical-align: middle;\n",
       "    }\n",
       "\n",
       "    .dataframe tbody tr th {\n",
       "        vertical-align: top;\n",
       "    }\n",
       "\n",
       "    .dataframe thead th {\n",
       "        text-align: right;\n",
       "    }\n",
       "</style>\n",
       "<table border=\"1\" class=\"dataframe\">\n",
       "  <thead>\n",
       "    <tr style=\"text-align: right;\">\n",
       "      <th></th>\n",
       "      <th>0</th>\n",
       "      <th>1</th>\n",
       "      <th>2</th>\n",
       "      <th>3</th>\n",
       "      <th>4</th>\n",
       "    </tr>\n",
       "  </thead>\n",
       "  <tbody>\n",
       "    <tr>\n",
       "      <th>a</th>\n",
       "      <td>4001.0</td>\n",
       "      <td>4501.0</td>\n",
       "      <td>5001.0</td>\n",
       "      <td>5501.0</td>\n",
       "      <td>6001.0</td>\n",
       "    </tr>\n",
       "    <tr>\n",
       "      <th>p</th>\n",
       "      <td>0.1</td>\n",
       "      <td>0.3</td>\n",
       "      <td>0.3</td>\n",
       "      <td>0.2</td>\n",
       "      <td>0.1</td>\n",
       "    </tr>\n",
       "  </tbody>\n",
       "</table>\n",
       "</div>"
      ],
      "text/plain": [
       "        0       1       2       3       4\n",
       "a  4001.0  4501.0  5001.0  5501.0  6001.0\n",
       "p     0.1     0.3     0.3     0.2     0.1"
      ]
     },
     "execution_count": 52,
     "metadata": {},
     "output_type": "execute_result"
    }
   ],
   "source": [
    "# ``a'' stands for ``attendance''\n",
    "df = pd.DataFrame({\n",
    "    'a': [4000, 4500, 5000, 5500, 6000],\n",
    "    'p': [.1, .3, .3, .2, .1],\n",
    "})\n",
    "star = 1\n",
    "df.a += star\n",
    "df.transpose()"
   ]
  },
  {
   "cell_type": "code",
   "execution_count": 53,
   "metadata": {
    "ExecuteTime": {
     "end_time": "2017-12-29T09:59:57.709461Z",
     "start_time": "2017-12-29T09:59:57.613560Z"
    }
   },
   "outputs": [
    {
     "data": {
      "text/html": [
       "<div>\n",
       "<style scoped>\n",
       "    .dataframe tbody tr th:only-of-type {\n",
       "        vertical-align: middle;\n",
       "    }\n",
       "\n",
       "    .dataframe tbody tr th {\n",
       "        vertical-align: top;\n",
       "    }\n",
       "\n",
       "    .dataframe thead th {\n",
       "        text-align: right;\n",
       "    }\n",
       "</style>\n",
       "<table border=\"1\" class=\"dataframe\">\n",
       "  <thead>\n",
       "    <tr style=\"text-align: right;\">\n",
       "      <th></th>\n",
       "      <th>base_cost</th>\n",
       "      <th>base_income</th>\n",
       "      <th>unit_cost</th>\n",
       "      <th>unit_income</th>\n",
       "    </tr>\n",
       "  </thead>\n",
       "  <tbody>\n",
       "    <tr>\n",
       "      <th>1</th>\n",
       "      <td>200</td>\n",
       "      <td>300</td>\n",
       "      <td>30</td>\n",
       "      <td>60</td>\n",
       "    </tr>\n",
       "  </tbody>\n",
       "</table>\n",
       "</div>"
      ],
      "text/plain": [
       "   base_cost  base_income  unit_cost  unit_income\n",
       "1        200          300         30           60"
      ]
     },
     "execution_count": 53,
     "metadata": {},
     "output_type": "execute_result"
    }
   ],
   "source": [
    "parms = pd.DataFrame(dict(\n",
    "    base_cost = 200,\n",
    "    unit_cost = 30,\n",
    "    unit_income = 60,\n",
    "    base_income = 300,\n",
    "), index=[1])\n",
    "parms"
   ]
  },
  {
   "cell_type": "code",
   "execution_count": 54,
   "metadata": {
    "ExecuteTime": {
     "end_time": "2017-12-29T09:59:57.774842Z",
     "start_time": "2017-12-29T09:59:57.712423Z"
    }
   },
   "outputs": [],
   "source": [
    "def gen_profit(df, parms):\n",
    "    def profit(q):\n",
    "        sold = np.minimum(df.a, np.array([q]))\n",
    "        profit = (\n",
    "            sold*parms.unit_income\n",
    "            - q*parms.unit_cost\n",
    "            + parms.base_income\n",
    "            - parms.base_cost \n",
    "        )\n",
    "        return profit\n",
    "    return profit"
   ]
  },
  {
   "cell_type": "code",
   "execution_count": 55,
   "metadata": {
    "ExecuteTime": {
     "end_time": "2017-12-29T09:59:57.841412Z",
     "start_time": "2017-12-29T09:59:57.777131Z"
    }
   },
   "outputs": [],
   "source": [
    "def gen_profit_moments(df, parms):\n",
    "    profit = gen_profit(df, parms)\n",
    "    def profit_moments(q):\n",
    "        pro = profit(q)\n",
    "        mu = (df.p * pro).sum()\n",
    "        std = (df.p * (pro - mu)**2).sum()\n",
    "        return mu, std\n",
    "    return profit_moments"
   ]
  },
  {
   "cell_type": "code",
   "execution_count": 56,
   "metadata": {
    "ExecuteTime": {
     "end_time": "2017-12-29T09:59:57.896735Z",
     "start_time": "2017-12-29T09:59:57.844025Z"
    }
   },
   "outputs": [],
   "source": [
    "QQ = np.arange(4000, 6001, 1)\n",
    "profit, moments = gen_profit(df, parms), gen_profit_moments(df, parms)"
   ]
  },
  {
   "cell_type": "code",
   "execution_count": 61,
   "metadata": {
    "ExecuteTime": {
     "end_time": "2017-12-29T10:00:35.286171Z",
     "start_time": "2017-12-29T10:00:35.279445Z"
    }
   },
   "outputs": [
    {
     "data": {
      "text/plain": [
       "0    a_4001\n",
       "1    a_4501\n",
       "2    a_5001\n",
       "3    a_5501\n",
       "4    a_6001\n",
       "Name: a, dtype: object"
      ]
     },
     "execution_count": 61,
     "metadata": {},
     "output_type": "execute_result"
    }
   ],
   "source": [
    "'a_' + df.a.astype(str) "
   ]
  },
  {
   "cell_type": "code",
   "execution_count": null,
   "metadata": {},
   "outputs": [],
   "source": []
  },
  {
   "cell_type": "code",
   "execution_count": null,
   "metadata": {},
   "outputs": [],
   "source": []
  },
  {
   "cell_type": "code",
   "execution_count": null,
   "metadata": {},
   "outputs": [],
   "source": []
  },
  {
   "cell_type": "code",
   "execution_count": null,
   "metadata": {},
   "outputs": [],
   "source": []
  }
 ],
 "metadata": {
  "kernelspec": {
   "display_name": "Python 3",
   "language": "python",
   "name": "python3"
  },
  "language_info": {
   "codemirror_mode": {
    "name": "ipython",
    "version": 3
   },
   "file_extension": ".py",
   "mimetype": "text/x-python",
   "name": "python",
   "nbconvert_exporter": "python",
   "pygments_lexer": "ipython3",
   "version": "3.6.2"
  },
  "latex_envs": {
   "LaTeX_envs_menu_present": true,
   "autoclose": true,
   "autocomplete": true,
   "bibliofile": "biblio.bib",
   "cite_by": "apalike",
   "current_citInitial": 1,
   "eqLabelWithNumbers": true,
   "eqNumInitial": 1,
   "hotkeys": {
    "equation": "Ctrl-E",
    "itemize": "Ctrl-I"
   },
   "labels_anchors": false,
   "latex_user_defs": false,
   "report_style_numbering": false,
   "user_envs_cfg": false
  }
 },
 "nbformat": 4,
 "nbformat_minor": 2
}
